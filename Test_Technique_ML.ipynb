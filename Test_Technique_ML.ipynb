{
 "cells": [
  {
   "cell_type": "markdown",
   "metadata": {},
   "source": [
    "# Part I : Quel(le) data scientist êtes-vous ?\n",
    "## Contexte de l’analyse\n",
    "\n",
    "Elu métier le plus sexy par la Harvard Business Review en octobre 2012, le data scientist représente un profil rare qui exige de nombreuses compétences.\n",
    "\n",
    "A partir d'un dataset Aquila, vous réaliserez :\n",
    "- un clustering non supervisé afin d'identifier 2 groupes de profils techniques distinctes\n",
    "- une prédiction des profils dont le métier n'est pas labellisé\n",
    "\n",
    "\n",
    "## Données\n",
    "data.csv contient 6 variables : \n",
    "    - 'Entreprise' correspond à une liste d'entreprises fictive\n",
    "    - 'Metier' correspond au métier parmi data scientist, lead data scientist, data engineer et data architecte\n",
    "    - 'Technologies' correspond aux compétences maîtrisées par le profil\n",
    "    - 'Diplome' correspond à son niveau scolaire (Bac, Master, PhD,...)\n",
    "    - 'Experience' correspond au nombre d'années d'expériences\n",
    "    - 'Ville' correspond au lieu de travail\n",
    "    \n",
    "\n",
    "\n",
    "## Répondez aux questions \n",
    "\n",
    "Bonne chance!"
   ]
  },
  {
   "cell_type": "code",
   "execution_count": 1,
   "metadata": {},
   "outputs": [],
   "source": [
    "# Import des libraries classique (numpy, pandas, ...)\n",
    "import pandas as pd\n",
    "import numpy as np\n",
    "import re\n",
    "import sklearn as sk\n",
    "import seaborn as sb\n",
    "from matplotlib import pyplot as plt\n",
    "from sklearn.model_selection import StratifiedShuffleSplit\n",
    "from sklearn.model_selection import GridSearchCV\n",
    "from sklearn.ensemble import RandomForestClassifier\n",
    "from sklearn.metrics import accuracy_score, silhouette_score, confusion_matrix\n",
    "from sklearn.pipeline import Pipeline, FeatureUnion\n",
    "from sklearn.cluster import KMeans, AgglomerativeClustering\n",
    "from sklearn.decomposition import TruncatedSVD\n",
    "from sklearn.decomposition import PCA\n",
    "from sklearn.preprocessing import StandardScaler\n",
    "%matplotlib inline\n",
    "plt.style.use('ggplot')\n"
   ]
  },
  {
   "cell_type": "markdown",
   "metadata": {},
   "source": [
    "### 1) Importer le tableau de données dans un dataframe "
   ]
  },
  {
   "cell_type": "markdown",
   "metadata": {},
   "source": [
    "Il est interessant ici d'ouvrir au préalable le fichier csv avec un logiciel comme<br>\n",
    "<b>notepad++</b> afin de voir les specificités du document (separateur, etc....)."
   ]
  },
  {
   "cell_type": "code",
   "execution_count": 2,
   "metadata": {},
   "outputs": [],
   "source": [
    "# Import du dataframe \"data.csv\"\n",
    "filename = 'data.csv'\n",
    "df = pd.read_csv(filename, sep=',', decimal=',')"
   ]
  },
  {
   "cell_type": "markdown",
   "metadata": {},
   "source": [
    "### 2) Combien y a t-il d'observations dans ce dataset? Y a t-il des valeurs manquantes? "
   ]
  },
  {
   "cell_type": "code",
   "execution_count": 3,
   "metadata": {},
   "outputs": [
    {
     "name": "stdout",
     "output_type": "stream",
     "text": [
      "methode: nombre d'observations du dataset 9582 \n",
      "\n"
     ]
    }
   ],
   "source": [
    "# methode: avec shape\n",
    "message = 'methode: nombre d\\'observations du dataset {} \\n'\n",
    "print(message.format(df.shape[0]))\n"
   ]
  },
  {
   "cell_type": "code",
   "execution_count": 4,
   "metadata": {},
   "outputs": [
    {
     "name": "stdout",
     "output_type": "stream",
     "text": [
      "proportion des valeurs manquantes dans chacune des columnes en %: \n",
      "\n",
      "Entreprise      0.177416\n",
      "Metier          0.198288\n",
      "Technologies    0.000000\n",
      "Diplome         0.000000\n",
      "Experience      0.981006\n",
      "Ville           0.000000\n",
      "dtype: float64\n"
     ]
    }
   ],
   "source": [
    "## Apercu des valeurs manquantes\n",
    "## Calculons la proportion de valeurs manquantes dans chacune des columnes\n",
    "print('proportion des valeurs manquantes dans chacune des columnes en %: \\n')\n",
    "print(df.isnull().mean()*100)"
   ]
  },
  {
   "cell_type": "markdown",
   "metadata": {},
   "source": [
    "<br> Concernant les valeurs manquantes, je constate que les variables categorielles <b> Entreprise</b>, <b>Metier</b> en contiennent approximativement et respectivement <b>0.17%</b> et <b>0.18%</b> tandis que la variable numerique <b>Experience</b> en contient moins de <b>1%</b>.\n",
    "<br> Ces donnees manquantes sont assez rares (moins de 1%) en general, le dataset est donc exploitable et on peut remplacer ces valeurs manquantes par diverses méthodes (moyenne, medianne, mode (pour les variables categorielles)"
   ]
  },
  {
   "cell_type": "markdown",
   "metadata": {},
   "source": [
    "### 3) Réaliser l'imputation des valeurs manquantes pour la variable \"Experience\" avec : \n",
    "- la valeur médiane pour les data scientists\n",
    "- la valeur moyenne pour les data engineers"
   ]
  },
  {
   "cell_type": "code",
   "execution_count": 5,
   "metadata": {},
   "outputs": [],
   "source": [
    "def making_imputation(dataframe, value, method):\n",
    "    '''\n",
    "    INPUT\n",
    "    -dataframe: dataframe where we did imputation\n",
    "    - value: value in Experience (Data scientist,etc ...)\n",
    "    - method : method of imputation\n",
    "    OUTPUT\n",
    "    - return new dataframe with replaced values\n",
    "    \n",
    "    '''\n",
    "    \n",
    "    # faire une copie du dataset\n",
    "    df = dataframe.copy()\n",
    "    #faire des verifications quant aux entrees\n",
    "    message1 = 'valeur non presente dans Experience'\n",
    "    message2 = 'méthode inconnue'\n",
    "    assert value in np.unique(df.Metier.dropna()), message1\n",
    "    assert method in ['mean', 'median'], message2\n",
    "    # rechercher les indices qui satisfassent la condition\n",
    "    indices = np.where((df.Metier==value) & (df.Experience.isnull()))[0]\n",
    "    # la methode de remplacement \n",
    "    if method=='mean':\n",
    "        moyenne = round(np.mean(df.Experience.iloc[np.where(df.Metier==value)]), 2)\n",
    "        df.loc[indices, 'Experience'] = moyenne\n",
    "    elif method=='median':\n",
    "        moyenne = round(np.mean(df.Experience.iloc[np.where(df.Metier==value)]), 2)\n",
    "        df.loc[indices, 'Experience'] = moyenne\n",
    "        \n",
    "    return df\n",
    "## Remplacer les valeurs manquantes pour les data scientists par la valeur mediane\n",
    "df = making_imputation(df,'Data scientist', 'median')\n",
    "## Remplacer les valeurs manquantes pour les data engineers par la moyenne\n",
    "df = making_imputation(df, 'Data engineer', 'mean')"
   ]
  },
  {
   "cell_type": "code",
   "execution_count": 6,
   "metadata": {},
   "outputs": [
    {
     "data": {
      "text/html": [
       "<div>\n",
       "<style scoped>\n",
       "    .dataframe tbody tr th:only-of-type {\n",
       "        vertical-align: middle;\n",
       "    }\n",
       "\n",
       "    .dataframe tbody tr th {\n",
       "        vertical-align: top;\n",
       "    }\n",
       "\n",
       "    .dataframe thead th {\n",
       "        text-align: right;\n",
       "    }\n",
       "</style>\n",
       "<table border=\"1\" class=\"dataframe\">\n",
       "  <thead>\n",
       "    <tr style=\"text-align: right;\">\n",
       "      <th></th>\n",
       "      <th>Entreprise</th>\n",
       "      <th>Metier</th>\n",
       "      <th>Technologies</th>\n",
       "      <th>Diplome</th>\n",
       "      <th>Experience</th>\n",
       "      <th>Ville</th>\n",
       "    </tr>\n",
       "  </thead>\n",
       "  <tbody>\n",
       "    <tr>\n",
       "      <th>0</th>\n",
       "      <td>Sanofi</td>\n",
       "      <td>Data scientist</td>\n",
       "      <td>Matlab/Python/Pyspark/Scikit-learn/Tensorflow</td>\n",
       "      <td>Master</td>\n",
       "      <td>1.00</td>\n",
       "      <td>Paris</td>\n",
       "    </tr>\n",
       "    <tr>\n",
       "      <th>1</th>\n",
       "      <td>Massachusetts General Hospital(MGH)</td>\n",
       "      <td>Data architecte</td>\n",
       "      <td>Python/Java/Scala/MongoDB</td>\n",
       "      <td>Master</td>\n",
       "      <td>3.00</td>\n",
       "      <td>Marseille</td>\n",
       "    </tr>\n",
       "    <tr>\n",
       "      <th>2</th>\n",
       "      <td>Delve</td>\n",
       "      <td>Lead data scientist</td>\n",
       "      <td>SPSS/SQL/Teradata/R/Python/Tensorflow/scikit-l...</td>\n",
       "      <td>Master</td>\n",
       "      <td>3.00</td>\n",
       "      <td>Nantes</td>\n",
       "    </tr>\n",
       "    <tr>\n",
       "      <th>3</th>\n",
       "      <td>Ann &amp; Robert H. Lurie Children’s Hospital of C...</td>\n",
       "      <td>Data scientist</td>\n",
       "      <td>C/C++/Java/Python</td>\n",
       "      <td>Master</td>\n",
       "      <td>1.50</td>\n",
       "      <td>Marseille</td>\n",
       "    </tr>\n",
       "    <tr>\n",
       "      <th>4</th>\n",
       "      <td>Arm</td>\n",
       "      <td>Data scientist</td>\n",
       "      <td>Matlab/Python/C++/numpy/Tensorflow/scikit-learn</td>\n",
       "      <td>Phd</td>\n",
       "      <td>2.24</td>\n",
       "      <td>Bordeaux</td>\n",
       "    </tr>\n",
       "    <tr>\n",
       "      <th>5</th>\n",
       "      <td>S&amp;P Global Ratings</td>\n",
       "      <td>Lead data scientist</td>\n",
       "      <td>VBA/Python/Excel/R</td>\n",
       "      <td>Master</td>\n",
       "      <td>6.00</td>\n",
       "      <td>Lille</td>\n",
       "    </tr>\n",
       "    <tr>\n",
       "      <th>6</th>\n",
       "      <td>NVIDIA</td>\n",
       "      <td>Data scientist</td>\n",
       "      <td>Excel/VBA/R/Python/PySpark</td>\n",
       "      <td>Bachelor</td>\n",
       "      <td>0.00</td>\n",
       "      <td>Lille</td>\n",
       "    </tr>\n",
       "    <tr>\n",
       "      <th>7</th>\n",
       "      <td>Cedars-Sinai Medical Center</td>\n",
       "      <td>Data scientist</td>\n",
       "      <td>Java/C/C++/R/Python</td>\n",
       "      <td>Bachelor</td>\n",
       "      <td>4.00</td>\n",
       "      <td>Toulouse</td>\n",
       "    </tr>\n",
       "    <tr>\n",
       "      <th>8</th>\n",
       "      <td>Fibroblast</td>\n",
       "      <td>Data architecte</td>\n",
       "      <td>Java/Linux/Docker</td>\n",
       "      <td>Bachelor</td>\n",
       "      <td>8.00</td>\n",
       "      <td>Paris</td>\n",
       "    </tr>\n",
       "    <tr>\n",
       "      <th>9</th>\n",
       "      <td>General Motors</td>\n",
       "      <td>Data engineer</td>\n",
       "      <td>Python/Java/Linux/GNU</td>\n",
       "      <td>Master</td>\n",
       "      <td>5.00</td>\n",
       "      <td>Toulouse</td>\n",
       "    </tr>\n",
       "    <tr>\n",
       "      <th>10</th>\n",
       "      <td>KPMG</td>\n",
       "      <td>Data engineer</td>\n",
       "      <td>Hadoop/Hive/SQL/MariaDB</td>\n",
       "      <td>Master</td>\n",
       "      <td>0.50</td>\n",
       "      <td>Bordeaux</td>\n",
       "    </tr>\n",
       "    <tr>\n",
       "      <th>11</th>\n",
       "      <td>R&amp;D Partners</td>\n",
       "      <td>Lead data scientist</td>\n",
       "      <td>Python/R/machine learning/Excel/VBA/C++</td>\n",
       "      <td>Master</td>\n",
       "      <td>3.00</td>\n",
       "      <td>Rouen</td>\n",
       "    </tr>\n",
       "    <tr>\n",
       "      <th>12</th>\n",
       "      <td>ERPi</td>\n",
       "      <td>Data architecte</td>\n",
       "      <td>Python/Spark/Hive/Hadoop</td>\n",
       "      <td>Phd</td>\n",
       "      <td>3.00</td>\n",
       "      <td>Bordeaux</td>\n",
       "    </tr>\n",
       "    <tr>\n",
       "      <th>13</th>\n",
       "      <td>Ball Aerospace</td>\n",
       "      <td>Data architecte</td>\n",
       "      <td>Python/AWS/Docker</td>\n",
       "      <td>Master</td>\n",
       "      <td>0.00</td>\n",
       "      <td>Lyon</td>\n",
       "    </tr>\n",
       "    <tr>\n",
       "      <th>14</th>\n",
       "      <td>Massachusetts General Hospital(MGH)</td>\n",
       "      <td>Data scientist</td>\n",
       "      <td>Python/Tensorflow/scikit-learn/Deep learning/R</td>\n",
       "      <td>Phd</td>\n",
       "      <td>2.00</td>\n",
       "      <td>Paris</td>\n",
       "    </tr>\n",
       "    <tr>\n",
       "      <th>15</th>\n",
       "      <td>Benchling</td>\n",
       "      <td>Data engineer</td>\n",
       "      <td>Python/Pyspark/Spark</td>\n",
       "      <td>Master</td>\n",
       "      <td>3.00</td>\n",
       "      <td>Lyon</td>\n",
       "    </tr>\n",
       "    <tr>\n",
       "      <th>16</th>\n",
       "      <td>The Boston Consulting Group</td>\n",
       "      <td>Data architecte</td>\n",
       "      <td>C/C++/Java/Python</td>\n",
       "      <td>Master</td>\n",
       "      <td>0.50</td>\n",
       "      <td>Lille</td>\n",
       "    </tr>\n",
       "    <tr>\n",
       "      <th>17</th>\n",
       "      <td>Feeding America</td>\n",
       "      <td>Data scientist</td>\n",
       "      <td>Python/Tensorflow/scikit-learn/Deep learning/R</td>\n",
       "      <td>Phd</td>\n",
       "      <td>3.00</td>\n",
       "      <td>Toulouse</td>\n",
       "    </tr>\n",
       "    <tr>\n",
       "      <th>18</th>\n",
       "      <td>Natera</td>\n",
       "      <td>Data engineer</td>\n",
       "      <td>Python/Pyspark/Spark</td>\n",
       "      <td>Master</td>\n",
       "      <td>3.00</td>\n",
       "      <td>Lille</td>\n",
       "    </tr>\n",
       "    <tr>\n",
       "      <th>19</th>\n",
       "      <td>Ball Aerospace</td>\n",
       "      <td>Data engineer</td>\n",
       "      <td>Docker/PostgreSQL/Elasticsearch/Kibana/MongoDB</td>\n",
       "      <td>No diploma</td>\n",
       "      <td>8.00</td>\n",
       "      <td>Lyon</td>\n",
       "    </tr>\n",
       "    <tr>\n",
       "      <th>20</th>\n",
       "      <td>TrueMotion</td>\n",
       "      <td>Lead data scientist</td>\n",
       "      <td>R/machine learning/Excel/VBA</td>\n",
       "      <td>Master</td>\n",
       "      <td>3.50</td>\n",
       "      <td>Nantes</td>\n",
       "    </tr>\n",
       "    <tr>\n",
       "      <th>21</th>\n",
       "      <td>McKinsey &amp; Company</td>\n",
       "      <td>Data engineer</td>\n",
       "      <td>Elasticsearch/Kibana/MongoDB</td>\n",
       "      <td>Master</td>\n",
       "      <td>1.00</td>\n",
       "      <td>Lille</td>\n",
       "    </tr>\n",
       "    <tr>\n",
       "      <th>22</th>\n",
       "      <td>fractalanalytics</td>\n",
       "      <td>Data architecte</td>\n",
       "      <td>Python/Spark/Hive/Hadoop</td>\n",
       "      <td>Phd</td>\n",
       "      <td>5.00</td>\n",
       "      <td>Lyon</td>\n",
       "    </tr>\n",
       "    <tr>\n",
       "      <th>23</th>\n",
       "      <td>Symantec</td>\n",
       "      <td>Lead data scientist</td>\n",
       "      <td>Python/Tensorflow/scikit-learn/Deep learning/R</td>\n",
       "      <td>Phd</td>\n",
       "      <td>4.00</td>\n",
       "      <td>Marseille</td>\n",
       "    </tr>\n",
       "    <tr>\n",
       "      <th>24</th>\n",
       "      <td>Novi Labs</td>\n",
       "      <td>Data engineer</td>\n",
       "      <td>Java/Hadoop/HDFS/Yarn</td>\n",
       "      <td>Master</td>\n",
       "      <td>2.00</td>\n",
       "      <td>Marseille</td>\n",
       "    </tr>\n",
       "    <tr>\n",
       "      <th>25</th>\n",
       "      <td>Ginkgo Bioworks</td>\n",
       "      <td>Data scientist</td>\n",
       "      <td>Python/Pyspark/machine learning/Microsoft Azure</td>\n",
       "      <td>Phd</td>\n",
       "      <td>9.00</td>\n",
       "      <td>Lyon</td>\n",
       "    </tr>\n",
       "    <tr>\n",
       "      <th>26</th>\n",
       "      <td>Ball Aerospace</td>\n",
       "      <td>Data engineer</td>\n",
       "      <td>Python/Pyspark/Spark</td>\n",
       "      <td>No diploma</td>\n",
       "      <td>8.00</td>\n",
       "      <td>Lille</td>\n",
       "    </tr>\n",
       "    <tr>\n",
       "      <th>27</th>\n",
       "      <td>Intercontinental Exchange</td>\n",
       "      <td>Data architecte</td>\n",
       "      <td>Elasticsearch/Kibana/Redshift</td>\n",
       "      <td>Phd</td>\n",
       "      <td>4.00</td>\n",
       "      <td>Marseille</td>\n",
       "    </tr>\n",
       "    <tr>\n",
       "      <th>28</th>\n",
       "      <td>Voya Financial</td>\n",
       "      <td>Lead data scientist</td>\n",
       "      <td>SAS/Teradata/SQL/R/Python/Machine learning/Ang...</td>\n",
       "      <td>Master</td>\n",
       "      <td>NaN</td>\n",
       "      <td>Marseille</td>\n",
       "    </tr>\n",
       "    <tr>\n",
       "      <th>29</th>\n",
       "      <td>Neuberger Berman</td>\n",
       "      <td>Data scientist</td>\n",
       "      <td>Excel/Python/Matlab/R/machine learning/anglais</td>\n",
       "      <td>Master</td>\n",
       "      <td>7.00</td>\n",
       "      <td>Lyon</td>\n",
       "    </tr>\n",
       "    <tr>\n",
       "      <th>...</th>\n",
       "      <td>...</td>\n",
       "      <td>...</td>\n",
       "      <td>...</td>\n",
       "      <td>...</td>\n",
       "      <td>...</td>\n",
       "      <td>...</td>\n",
       "    </tr>\n",
       "    <tr>\n",
       "      <th>9552</th>\n",
       "      <td>Civis Analytics</td>\n",
       "      <td>Data engineer</td>\n",
       "      <td>Spark/Python/Scala</td>\n",
       "      <td>Phd</td>\n",
       "      <td>2.50</td>\n",
       "      <td>Lille</td>\n",
       "    </tr>\n",
       "    <tr>\n",
       "      <th>9553</th>\n",
       "      <td>Amazon.com</td>\n",
       "      <td>Data engineer</td>\n",
       "      <td>Python/Java/Linux/GNU</td>\n",
       "      <td>Master</td>\n",
       "      <td>8.00</td>\n",
       "      <td>Nantes</td>\n",
       "    </tr>\n",
       "    <tr>\n",
       "      <th>9554</th>\n",
       "      <td>AKCEA Therapeutics</td>\n",
       "      <td>Data scientist</td>\n",
       "      <td>R/Python/SQL/NoSQL/MongoDB</td>\n",
       "      <td>Phd</td>\n",
       "      <td>4.00</td>\n",
       "      <td>Lyon</td>\n",
       "    </tr>\n",
       "    <tr>\n",
       "      <th>9555</th>\n",
       "      <td>Amazon.com</td>\n",
       "      <td>Data scientist</td>\n",
       "      <td>Python/R/Spark/Hadoop/SQL</td>\n",
       "      <td>Master</td>\n",
       "      <td>2.50</td>\n",
       "      <td>Montpellier</td>\n",
       "    </tr>\n",
       "    <tr>\n",
       "      <th>9556</th>\n",
       "      <td>Galvanize</td>\n",
       "      <td>Data scientist</td>\n",
       "      <td>Python/Pyspark/machine learning/Microsoft Azure</td>\n",
       "      <td>Master</td>\n",
       "      <td>2.00</td>\n",
       "      <td>Marseille</td>\n",
       "    </tr>\n",
       "    <tr>\n",
       "      <th>9557</th>\n",
       "      <td>Cugene Inc</td>\n",
       "      <td>Lead data scientist</td>\n",
       "      <td>VBA/Python/Excel/R</td>\n",
       "      <td>Bachelor</td>\n",
       "      <td>7.00</td>\n",
       "      <td>Rouen</td>\n",
       "    </tr>\n",
       "    <tr>\n",
       "      <th>9558</th>\n",
       "      <td>Draper</td>\n",
       "      <td>Data scientist</td>\n",
       "      <td>Python/Pyspark/machine learning/Microsoft Azure</td>\n",
       "      <td>Bachelor</td>\n",
       "      <td>1.00</td>\n",
       "      <td>Bordeaux</td>\n",
       "    </tr>\n",
       "    <tr>\n",
       "      <th>9559</th>\n",
       "      <td>BlackLocus</td>\n",
       "      <td>Lead data scientist</td>\n",
       "      <td>Python/R/machine learning/Excel/VBA/C++</td>\n",
       "      <td>Master</td>\n",
       "      <td>17.00</td>\n",
       "      <td>Nice</td>\n",
       "    </tr>\n",
       "    <tr>\n",
       "      <th>9560</th>\n",
       "      <td>Foursquare</td>\n",
       "      <td>Data scientist</td>\n",
       "      <td>SAS/Teradata/SQL/R/Python/Machine learning/Ang...</td>\n",
       "      <td>Phd</td>\n",
       "      <td>1.50</td>\n",
       "      <td>Lille</td>\n",
       "    </tr>\n",
       "    <tr>\n",
       "      <th>9561</th>\n",
       "      <td>Sovrn Holdings</td>\n",
       "      <td>Data architecte</td>\n",
       "      <td>Hadoop(HDFS)/Elasticsearch</td>\n",
       "      <td>Bachelor</td>\n",
       "      <td>2.00</td>\n",
       "      <td>Lille</td>\n",
       "    </tr>\n",
       "    <tr>\n",
       "      <th>9562</th>\n",
       "      <td>Ball Aerospace</td>\n",
       "      <td>Data engineer</td>\n",
       "      <td>Spark/Python/Scala</td>\n",
       "      <td>Master</td>\n",
       "      <td>3.50</td>\n",
       "      <td>Paris</td>\n",
       "    </tr>\n",
       "    <tr>\n",
       "      <th>9563</th>\n",
       "      <td>Partners HealthCare(PHS)</td>\n",
       "      <td>Data scientist</td>\n",
       "      <td>Python/Tensorflow/R/Big data</td>\n",
       "      <td>Phd</td>\n",
       "      <td>1.50</td>\n",
       "      <td>Paris</td>\n",
       "    </tr>\n",
       "    <tr>\n",
       "      <th>9564</th>\n",
       "      <td>SPINS, LLC</td>\n",
       "      <td>Data engineer</td>\n",
       "      <td>Python/Pyspark/Spark</td>\n",
       "      <td>Master</td>\n",
       "      <td>0.00</td>\n",
       "      <td>Lille</td>\n",
       "    </tr>\n",
       "    <tr>\n",
       "      <th>9565</th>\n",
       "      <td>Ball Aerospace</td>\n",
       "      <td>Data engineer</td>\n",
       "      <td>Spark/Python/Scala</td>\n",
       "      <td>Master</td>\n",
       "      <td>4.00</td>\n",
       "      <td>Lille</td>\n",
       "    </tr>\n",
       "    <tr>\n",
       "      <th>9566</th>\n",
       "      <td>Ball Aerospace</td>\n",
       "      <td>Data scientist</td>\n",
       "      <td>C++/R/Python/Matlab/Matplotlib</td>\n",
       "      <td>Master</td>\n",
       "      <td>1.50</td>\n",
       "      <td>Montpellier</td>\n",
       "    </tr>\n",
       "    <tr>\n",
       "      <th>9567</th>\n",
       "      <td>Marsh</td>\n",
       "      <td>Data scientist</td>\n",
       "      <td>Matlab/Python/C++/numpy/Tensorflow/scikit-learn</td>\n",
       "      <td>Phd</td>\n",
       "      <td>0.00</td>\n",
       "      <td>Bordeaux</td>\n",
       "    </tr>\n",
       "    <tr>\n",
       "      <th>9568</th>\n",
       "      <td>The Boston Consulting Group</td>\n",
       "      <td>Data scientist</td>\n",
       "      <td>SAS/Teradata/SQL/R/Python/Machine learning/Ang...</td>\n",
       "      <td>Master</td>\n",
       "      <td>7.00</td>\n",
       "      <td>Paris</td>\n",
       "    </tr>\n",
       "    <tr>\n",
       "      <th>9569</th>\n",
       "      <td>Summit Technologies, Inc.</td>\n",
       "      <td>Data engineer</td>\n",
       "      <td>Python/Pyspark/Spark</td>\n",
       "      <td>Master</td>\n",
       "      <td>0.50</td>\n",
       "      <td>Toulouse</td>\n",
       "    </tr>\n",
       "    <tr>\n",
       "      <th>9570</th>\n",
       "      <td>The Coca-Cola Company</td>\n",
       "      <td>Data engineer</td>\n",
       "      <td>Spark/Python/Scala</td>\n",
       "      <td>Phd</td>\n",
       "      <td>2.00</td>\n",
       "      <td>Marseille</td>\n",
       "    </tr>\n",
       "    <tr>\n",
       "      <th>9571</th>\n",
       "      <td>Pfizer</td>\n",
       "      <td>Data scientist</td>\n",
       "      <td>Matlab/C/C++/Python/Scikit-learn</td>\n",
       "      <td>Bachelor</td>\n",
       "      <td>2.00</td>\n",
       "      <td>Lyon</td>\n",
       "    </tr>\n",
       "    <tr>\n",
       "      <th>9572</th>\n",
       "      <td>State Street</td>\n",
       "      <td>Data scientist</td>\n",
       "      <td>Excel/VBA/R/Python/PySpark</td>\n",
       "      <td>Master</td>\n",
       "      <td>2.00</td>\n",
       "      <td>Lyon</td>\n",
       "    </tr>\n",
       "    <tr>\n",
       "      <th>9573</th>\n",
       "      <td>Jacobs</td>\n",
       "      <td>Data scientist</td>\n",
       "      <td>Matlab/C/C++/Python/Scikit-learn</td>\n",
       "      <td>Phd</td>\n",
       "      <td>2.50</td>\n",
       "      <td>Bordeaux</td>\n",
       "    </tr>\n",
       "    <tr>\n",
       "      <th>9574</th>\n",
       "      <td>Georgia Tech Research Institute</td>\n",
       "      <td>Data architecte</td>\n",
       "      <td>MongoDB/SQL/Docker</td>\n",
       "      <td>Master</td>\n",
       "      <td>3.50</td>\n",
       "      <td>Toulouse</td>\n",
       "    </tr>\n",
       "    <tr>\n",
       "      <th>9575</th>\n",
       "      <td>Hatch</td>\n",
       "      <td>Data engineer</td>\n",
       "      <td>Python/Pyspark/Spark</td>\n",
       "      <td>No diploma</td>\n",
       "      <td>4.00</td>\n",
       "      <td>Toulouse</td>\n",
       "    </tr>\n",
       "    <tr>\n",
       "      <th>9576</th>\n",
       "      <td>Ra Pharmaceutical</td>\n",
       "      <td>Data scientist</td>\n",
       "      <td>R/machine learning/Excel/VBA</td>\n",
       "      <td>Phd</td>\n",
       "      <td>2.50</td>\n",
       "      <td>Toulouse</td>\n",
       "    </tr>\n",
       "    <tr>\n",
       "      <th>9577</th>\n",
       "      <td>Massachusetts General Hospital(MGH)</td>\n",
       "      <td>Data scientist</td>\n",
       "      <td>C++/R/Python/Matlab/Matplotlib</td>\n",
       "      <td>Master</td>\n",
       "      <td>1.50</td>\n",
       "      <td>Lyon</td>\n",
       "    </tr>\n",
       "    <tr>\n",
       "      <th>9578</th>\n",
       "      <td>Charles River Analytics</td>\n",
       "      <td>Data scientist</td>\n",
       "      <td>Excel/Python/Matlab/R/machine learning/anglais</td>\n",
       "      <td>Master</td>\n",
       "      <td>11.00</td>\n",
       "      <td>Toulouse</td>\n",
       "    </tr>\n",
       "    <tr>\n",
       "      <th>9579</th>\n",
       "      <td>Ball Aerospace</td>\n",
       "      <td>Data scientist</td>\n",
       "      <td>R/machine learning/Excel/VBA</td>\n",
       "      <td>Master</td>\n",
       "      <td>1.00</td>\n",
       "      <td>Paris</td>\n",
       "    </tr>\n",
       "    <tr>\n",
       "      <th>9580</th>\n",
       "      <td>Takeda Pharmaceutical</td>\n",
       "      <td>Data scientist</td>\n",
       "      <td>Python/Pyspark/machine learning/Microsoft Azure</td>\n",
       "      <td>Master</td>\n",
       "      <td>17.00</td>\n",
       "      <td>Rennes</td>\n",
       "    </tr>\n",
       "    <tr>\n",
       "      <th>9581</th>\n",
       "      <td>Vertex</td>\n",
       "      <td>Data scientist</td>\n",
       "      <td>VBA/Python/Excel/R</td>\n",
       "      <td>Phd</td>\n",
       "      <td>0.00</td>\n",
       "      <td>Paris</td>\n",
       "    </tr>\n",
       "  </tbody>\n",
       "</table>\n",
       "<p>9582 rows × 6 columns</p>\n",
       "</div>"
      ],
      "text/plain": [
       "                                             Entreprise               Metier  \\\n",
       "0                                                Sanofi       Data scientist   \n",
       "1                   Massachusetts General Hospital(MGH)      Data architecte   \n",
       "2                                                 Delve  Lead data scientist   \n",
       "3     Ann & Robert H. Lurie Children’s Hospital of C...       Data scientist   \n",
       "4                                                   Arm       Data scientist   \n",
       "5                                    S&P Global Ratings  Lead data scientist   \n",
       "6                                                NVIDIA       Data scientist   \n",
       "7                           Cedars-Sinai Medical Center       Data scientist   \n",
       "8                                            Fibroblast      Data architecte   \n",
       "9                                        General Motors        Data engineer   \n",
       "10                                                 KPMG        Data engineer   \n",
       "11                                         R&D Partners  Lead data scientist   \n",
       "12                                                 ERPi      Data architecte   \n",
       "13                                       Ball Aerospace      Data architecte   \n",
       "14                  Massachusetts General Hospital(MGH)       Data scientist   \n",
       "15                                            Benchling        Data engineer   \n",
       "16                          The Boston Consulting Group      Data architecte   \n",
       "17                                      Feeding America       Data scientist   \n",
       "18                                               Natera        Data engineer   \n",
       "19                                       Ball Aerospace        Data engineer   \n",
       "20                                           TrueMotion  Lead data scientist   \n",
       "21                                   McKinsey & Company        Data engineer   \n",
       "22                                     fractalanalytics      Data architecte   \n",
       "23                                             Symantec  Lead data scientist   \n",
       "24                                            Novi Labs        Data engineer   \n",
       "25                                      Ginkgo Bioworks       Data scientist   \n",
       "26                                       Ball Aerospace        Data engineer   \n",
       "27                            Intercontinental Exchange      Data architecte   \n",
       "28                                       Voya Financial  Lead data scientist   \n",
       "29                                     Neuberger Berman       Data scientist   \n",
       "...                                                 ...                  ...   \n",
       "9552                                    Civis Analytics        Data engineer   \n",
       "9553                                         Amazon.com        Data engineer   \n",
       "9554                                 AKCEA Therapeutics       Data scientist   \n",
       "9555                                         Amazon.com       Data scientist   \n",
       "9556                                          Galvanize       Data scientist   \n",
       "9557                                         Cugene Inc  Lead data scientist   \n",
       "9558                                             Draper       Data scientist   \n",
       "9559                                         BlackLocus  Lead data scientist   \n",
       "9560                                         Foursquare       Data scientist   \n",
       "9561                                     Sovrn Holdings      Data architecte   \n",
       "9562                                     Ball Aerospace        Data engineer   \n",
       "9563                           Partners HealthCare(PHS)       Data scientist   \n",
       "9564                                         SPINS, LLC        Data engineer   \n",
       "9565                                     Ball Aerospace        Data engineer   \n",
       "9566                                     Ball Aerospace       Data scientist   \n",
       "9567                                              Marsh       Data scientist   \n",
       "9568                        The Boston Consulting Group       Data scientist   \n",
       "9569                          Summit Technologies, Inc.        Data engineer   \n",
       "9570                              The Coca-Cola Company        Data engineer   \n",
       "9571                                             Pfizer       Data scientist   \n",
       "9572                                       State Street       Data scientist   \n",
       "9573                                             Jacobs       Data scientist   \n",
       "9574                    Georgia Tech Research Institute      Data architecte   \n",
       "9575                                              Hatch        Data engineer   \n",
       "9576                                  Ra Pharmaceutical       Data scientist   \n",
       "9577                Massachusetts General Hospital(MGH)       Data scientist   \n",
       "9578                            Charles River Analytics       Data scientist   \n",
       "9579                                     Ball Aerospace       Data scientist   \n",
       "9580                              Takeda Pharmaceutical       Data scientist   \n",
       "9581                                             Vertex       Data scientist   \n",
       "\n",
       "                                           Technologies     Diplome  \\\n",
       "0         Matlab/Python/Pyspark/Scikit-learn/Tensorflow      Master   \n",
       "1                             Python/Java/Scala/MongoDB      Master   \n",
       "2     SPSS/SQL/Teradata/R/Python/Tensorflow/scikit-l...      Master   \n",
       "3                                     C/C++/Java/Python      Master   \n",
       "4       Matlab/Python/C++/numpy/Tensorflow/scikit-learn         Phd   \n",
       "5                                    VBA/Python/Excel/R      Master   \n",
       "6                            Excel/VBA/R/Python/PySpark    Bachelor   \n",
       "7                                   Java/C/C++/R/Python    Bachelor   \n",
       "8                                     Java/Linux/Docker    Bachelor   \n",
       "9                                 Python/Java/Linux/GNU      Master   \n",
       "10                              Hadoop/Hive/SQL/MariaDB      Master   \n",
       "11              Python/R/machine learning/Excel/VBA/C++      Master   \n",
       "12                             Python/Spark/Hive/Hadoop         Phd   \n",
       "13                                    Python/AWS/Docker      Master   \n",
       "14       Python/Tensorflow/scikit-learn/Deep learning/R         Phd   \n",
       "15                                 Python/Pyspark/Spark      Master   \n",
       "16                                    C/C++/Java/Python      Master   \n",
       "17       Python/Tensorflow/scikit-learn/Deep learning/R         Phd   \n",
       "18                                 Python/Pyspark/Spark      Master   \n",
       "19       Docker/PostgreSQL/Elasticsearch/Kibana/MongoDB  No diploma   \n",
       "20                         R/machine learning/Excel/VBA      Master   \n",
       "21                         Elasticsearch/Kibana/MongoDB      Master   \n",
       "22                             Python/Spark/Hive/Hadoop         Phd   \n",
       "23       Python/Tensorflow/scikit-learn/Deep learning/R         Phd   \n",
       "24                                Java/Hadoop/HDFS/Yarn      Master   \n",
       "25      Python/Pyspark/machine learning/Microsoft Azure         Phd   \n",
       "26                                 Python/Pyspark/Spark  No diploma   \n",
       "27                        Elasticsearch/Kibana/Redshift         Phd   \n",
       "28    SAS/Teradata/SQL/R/Python/Machine learning/Ang...      Master   \n",
       "29       Excel/Python/Matlab/R/machine learning/anglais      Master   \n",
       "...                                                 ...         ...   \n",
       "9552                                 Spark/Python/Scala         Phd   \n",
       "9553                              Python/Java/Linux/GNU      Master   \n",
       "9554                         R/Python/SQL/NoSQL/MongoDB         Phd   \n",
       "9555                          Python/R/Spark/Hadoop/SQL      Master   \n",
       "9556    Python/Pyspark/machine learning/Microsoft Azure      Master   \n",
       "9557                                 VBA/Python/Excel/R    Bachelor   \n",
       "9558    Python/Pyspark/machine learning/Microsoft Azure    Bachelor   \n",
       "9559            Python/R/machine learning/Excel/VBA/C++      Master   \n",
       "9560  SAS/Teradata/SQL/R/Python/Machine learning/Ang...         Phd   \n",
       "9561                         Hadoop(HDFS)/Elasticsearch    Bachelor   \n",
       "9562                                 Spark/Python/Scala      Master   \n",
       "9563                       Python/Tensorflow/R/Big data         Phd   \n",
       "9564                               Python/Pyspark/Spark      Master   \n",
       "9565                                 Spark/Python/Scala      Master   \n",
       "9566                     C++/R/Python/Matlab/Matplotlib      Master   \n",
       "9567    Matlab/Python/C++/numpy/Tensorflow/scikit-learn         Phd   \n",
       "9568  SAS/Teradata/SQL/R/Python/Machine learning/Ang...      Master   \n",
       "9569                               Python/Pyspark/Spark      Master   \n",
       "9570                                 Spark/Python/Scala         Phd   \n",
       "9571                   Matlab/C/C++/Python/Scikit-learn    Bachelor   \n",
       "9572                         Excel/VBA/R/Python/PySpark      Master   \n",
       "9573                   Matlab/C/C++/Python/Scikit-learn         Phd   \n",
       "9574                                 MongoDB/SQL/Docker      Master   \n",
       "9575                               Python/Pyspark/Spark  No diploma   \n",
       "9576                       R/machine learning/Excel/VBA         Phd   \n",
       "9577                     C++/R/Python/Matlab/Matplotlib      Master   \n",
       "9578     Excel/Python/Matlab/R/machine learning/anglais      Master   \n",
       "9579                       R/machine learning/Excel/VBA      Master   \n",
       "9580    Python/Pyspark/machine learning/Microsoft Azure      Master   \n",
       "9581                                 VBA/Python/Excel/R         Phd   \n",
       "\n",
       "      Experience        Ville  \n",
       "0           1.00        Paris  \n",
       "1           3.00    Marseille  \n",
       "2           3.00       Nantes  \n",
       "3           1.50    Marseille  \n",
       "4           2.24     Bordeaux  \n",
       "5           6.00        Lille  \n",
       "6           0.00        Lille  \n",
       "7           4.00     Toulouse  \n",
       "8           8.00        Paris  \n",
       "9           5.00     Toulouse  \n",
       "10          0.50     Bordeaux  \n",
       "11          3.00        Rouen  \n",
       "12          3.00     Bordeaux  \n",
       "13          0.00         Lyon  \n",
       "14          2.00        Paris  \n",
       "15          3.00         Lyon  \n",
       "16          0.50        Lille  \n",
       "17          3.00     Toulouse  \n",
       "18          3.00        Lille  \n",
       "19          8.00         Lyon  \n",
       "20          3.50       Nantes  \n",
       "21          1.00        Lille  \n",
       "22          5.00         Lyon  \n",
       "23          4.00    Marseille  \n",
       "24          2.00    Marseille  \n",
       "25          9.00         Lyon  \n",
       "26          8.00        Lille  \n",
       "27          4.00    Marseille  \n",
       "28           NaN    Marseille  \n",
       "29          7.00         Lyon  \n",
       "...          ...          ...  \n",
       "9552        2.50        Lille  \n",
       "9553        8.00       Nantes  \n",
       "9554        4.00         Lyon  \n",
       "9555        2.50  Montpellier  \n",
       "9556        2.00    Marseille  \n",
       "9557        7.00        Rouen  \n",
       "9558        1.00     Bordeaux  \n",
       "9559       17.00         Nice  \n",
       "9560        1.50        Lille  \n",
       "9561        2.00        Lille  \n",
       "9562        3.50        Paris  \n",
       "9563        1.50        Paris  \n",
       "9564        0.00        Lille  \n",
       "9565        4.00        Lille  \n",
       "9566        1.50  Montpellier  \n",
       "9567        0.00     Bordeaux  \n",
       "9568        7.00        Paris  \n",
       "9569        0.50     Toulouse  \n",
       "9570        2.00    Marseille  \n",
       "9571        2.00         Lyon  \n",
       "9572        2.00         Lyon  \n",
       "9573        2.50     Bordeaux  \n",
       "9574        3.50     Toulouse  \n",
       "9575        4.00     Toulouse  \n",
       "9576        2.50     Toulouse  \n",
       "9577        1.50         Lyon  \n",
       "9578       11.00     Toulouse  \n",
       "9579        1.00        Paris  \n",
       "9580       17.00       Rennes  \n",
       "9581        0.00        Paris  \n",
       "\n",
       "[9582 rows x 6 columns]"
      ]
     },
     "execution_count": 6,
     "metadata": {},
     "output_type": "execute_result"
    }
   ],
   "source": [
    "df"
   ]
  },
  {
   "cell_type": "markdown",
   "metadata": {},
   "source": [
    "La méthode que j'ai employee ici, consiste d'abord a detecter <b> les indices </b> du dataset correspondant aux differents emplois qu'on recherche ici, à savoir <b> data scientist </b> et <b> data engineers </b>.\n",
    "<br> Ensuite nous allons proceder à la modification des <b> NaN </b> presents à ces ligne par les valeurs demandées.\n",
    "<br> J'utiliserai ici compte tenu de la taille du dataset (moins de 10.000 lignes) les fonctions de <b>numpy</b> qui donnent de meilleurs performances comparativement à celles de <b>pandas</b>."
   ]
  },
  {
   "cell_type": "markdown",
   "metadata": {},
   "source": [
    "### 4) Combien d'années d'expériences ont, en moyenne, chacun des profils : le data scientist, le lead data scientist et le data engineer en moyenne?"
   ]
  },
  {
   "cell_type": "code",
   "execution_count": 7,
   "metadata": {},
   "outputs": [
    {
     "name": "stdout",
     "output_type": "stream",
     "text": [
      "Moyenne des experiences des differents metiers \n",
      " Metier\n",
      "Data architecte        3.00\n",
      "Data engineer          2.98\n",
      "Data scientist         2.24\n",
      "Lead data scientist    3.97\n",
      "Name: Experience, dtype: float64\n"
     ]
    }
   ],
   "source": [
    "# Calcul des annees d'experiences de chacun des profils\n",
    "print('Moyenne des experiences des differents metiers \\n {}'.\\\n",
    "      format(round(df.groupby('Metier')['Experience'].mean(), 2)))\n"
   ]
  },
  {
   "cell_type": "markdown",
   "metadata": {},
   "source": [
    "<b> Le data scientist </b> a en moyenne <b>3.0 annees </b> d'experiences. <br>\n",
    "<b> Le lead data scientist </b> a en moyenne <b>3.97 annees </b> d'experiences. <br>\n",
    "<b> Le data engineer </b> a en moyenne <b>2.98 annees </b> d'experiences."
   ]
  },
  {
   "cell_type": "markdown",
   "metadata": {},
   "source": [
    "### 5) Faire la représentation graphique de votre choix afin de comparer le nombre moyen d'années d'expériences pour chaque métier"
   ]
  },
  {
   "cell_type": "code",
   "execution_count": 11,
   "metadata": {
    "scrolled": true
   },
   "outputs": [
    {
     "data": {
      "text/plain": [
       "Text(0.5, 1.0, \"Annee d'experiences de divers acteurs de la data\")"
      ]
     },
     "execution_count": 11,
     "metadata": {},
     "output_type": "execute_result"
    },
    {
     "data": {
      "image/png": "[encoded data removed]",
      "text/plain": [
       "<Figure size 432x288 with 1 Axes>"
      ]
     },
     "metadata": {
      "needs_background": "light"
     },
     "output_type": "display_data"
    }
   ],
   "source": [
    "df.groupby('Metier')['Experience'].mean().plot(kind='bar')\n",
    "plt.title('Annee d\\'experiences de divers acteurs de la data')"
   ]
  },
  {
   "cell_type": "markdown",
   "metadata": {},
   "source": [
    "### 6) Transformer la variable continue 'Experience' en une nouvelle variable catégorielle 'Exp_label' à 4 modalités: débutant, confirmé, avancé et expert\n",
    "- Veuillez expliquer votre choix du règle de transformation.  "
   ]
  },
  {
   "cell_type": "markdown",
   "metadata": {},
   "source": [
    "Verifions s'il reste encore des <b>NaN</b> dans la variable <b>Experience</b>"
   ]
  },
  {
   "cell_type": "code",
   "execution_count": 13,
   "metadata": {},
   "outputs": [
    {
     "data": {
      "text/plain": [
       "Entreprise      0.177416\n",
       "Metier          0.198288\n",
       "Technologies    0.000000\n",
       "Diplome         0.000000\n",
       "Experience      0.438322\n",
       "Ville           0.000000\n",
       "dtype: float64"
      ]
     },
     "execution_count": 13,
     "metadata": {},
     "output_type": "execute_result"
    }
   ],
   "source": [
    "#Verifions s'il reste encore des NaN dans experience\n",
    "df.isnull().mean()*100"
   ]
  },
  {
   "cell_type": "markdown",
   "metadata": {},
   "source": [
    "Il reste encore <b>0.43%</b> de NaN dans experience, certainement du aux valeurs dans Lead data scientist et lead architect qu'on a pas modifié.\n",
    "<br> Afin de transformer la variable categorielle, nous allons aussi proceder à l'imputation de ces <b>NaN</b> avec\n",
    "la mediane, plus robuste aux valeurs abberantes"
   ]
  },
  {
   "cell_type": "code",
   "execution_count": 14,
   "metadata": {},
   "outputs": [],
   "source": [
    "## Remplacer les valeurs manquantes pour les data architectes par la valeur mediane\n",
    "df = making_imputation(df,'Lead data scientist', 'median')\n",
    "## Remplacer les valeurs manquantes pour les lead data scientist par la moyenne\n",
    "df = making_imputation(df, 'Data architecte', 'median')"
   ]
  },
  {
   "cell_type": "markdown",
   "metadata": {},
   "source": [
    "<b> Explication de la methode de transformation </b>"
   ]
  },
  {
   "cell_type": "markdown",
   "metadata": {},
   "source": [
    "La categorisation d'une variabe continue s'accomapagne toujours d'une perte d'informations mais elle peut accelerer et ameliorer les performances du modèle predictif.\n",
    "<br> J'envisageais deux methodes, en utilisant les fonctions <b>cut</b> et <b>qcut</b>.\n",
    "<br> La fonction qcut est base sur les quantiles et subdivise la variable continue en clusters irregulierement espacé mais contenant a peu près le meme nombre d'individu.\n",
    "<br> La méthode cut quant à elle créer des clusters successifs mais ne contenant pas forcement le meme nombre d'individus. Cette méthode nous parait plus réaliste.\n",
    "<br> Une dernière méthode consisterait ici à utiliser des connaissances à priori pour effectuer cette classfication.\n",
    "    <br> Nous choisissons ici d'uliser la méthode <b> qcut </b> de pandas plus adapté à notre problematique;"
   ]
  },
  {
   "cell_type": "code",
   "execution_count": 34,
   "metadata": {},
   "outputs": [],
   "source": [
    "### Realisons ala categorisation avec la methode cut\n",
    "df['Exp_label'] = df.groupby('Metier')['Experience'].apply(lambda x:pd.cut(x, bins=4,\\\n",
    "                  labels=[\"debutant\", \"confirme\", \"avance\", \"expert\"]))"
   ]
  },
  {
   "cell_type": "markdown",
   "metadata": {},
   "source": [
    "Plutot que de categoriser ici de manière generale, nous allons créer les categories en fonctions du métier."
   ]
  },
  {
   "cell_type": "code",
   "execution_count": 36,
   "metadata": {},
   "outputs": [
    {
     "data": {
      "text/plain": [
       "Text(0.5, 1.0, 'repartition des categories')"
      ]
     },
     "execution_count": 36,
     "metadata": {},
     "output_type": "execute_result"
    },
    {
     "data": {
      "image/png": "[encoded data removed]",
      "text/plain": [
       "<Figure size 432x288 with 1 Axes>"
      ]
     },
     "metadata": {
      "needs_background": "light"
     },
     "output_type": "display_data"
    }
   ],
   "source": [
    "(df.Exp_label.value_counts()/df.shape[0]).plot(kind=\"bar\")\n",
    "plt.title('repartition des categories')"
   ]
  },
  {
   "cell_type": "markdown",
   "metadata": {},
   "source": [
    "### 7) Quelles sont les 5 technologies les plus utilisées? Faites un graphique"
   ]
  },
  {
   "cell_type": "markdown",
   "metadata": {},
   "source": [
    "Listons l'ensemble des technologies utilisées par l'ensemble des candidats"
   ]
  },
  {
   "cell_type": "markdown",
   "metadata": {},
   "source": [
    "Regardons si sur chaque ligne, chaque observation ne contient pas une technoogie en double ce qui peut fausser le calcul du decompte.\n",
    "<br> On se sert de set pour faire le compte des technoogies uniques et nous verifions si ce compte est egale à celle de la liste de depart si oui il n'ya pas de double sinon il y'en a"
   ]
  },
  {
   "cell_type": "markdown",
   "metadata": {},
   "source": [
    "#### Visualisons la liste unique de l'ensemble des technologies"
   ]
  },
  {
   "cell_type": "markdown",
   "metadata": {},
   "source": [
    "Plusieurs choses sont a noter après visualisation de la colonne <b> Technologie</b> : \n",
    "<br> L'anglais n'est pas une technologie donc n'a theoriquement pas sa place parmi les technologies\n",
    "<br> Des technologies comme <b> Scikit learn </b> sont mentionnés en double a cause des majuscules\n",
    "<br> Machine learning, big data, map reduce sont des domaines et un paradigme pour le dernier et non pas des technologies au sens propre\n",
    "<br> <b> Solutions envisagees </b>\n",
    "<br> <b>1.</b> Mettre en miniscule dans le dataset pour eviter les doublons\n",
    "<br> <b>2.</b> Pour le listings des 5 technologies les plus utilisees enlever l'Anglais du dataset ainsi que les termes se referant vaguement au domaine (Machine learning, big data, deep learning, scoring).\n",
    "<br> <b>3.</b> Aussi les termes Hadoop(HDFS) et Hadoop se referent à l'utilisation de la technologie Hadoop. Il y'a donc possibilite de les regrouper. De meme HDFS est le systeme de fichier de Hadoop donc se refère à cette technologie.\n"
   ]
  },
  {
   "cell_type": "code",
   "execution_count": 76,
   "metadata": {},
   "outputs": [],
   "source": [
    "# mettre en miniscule les technologies en creant une nouvelle variable Technologies_reelles\n",
    "df['Technologies_reelles'] = df.Technologies.transform(lambda x:x.lower())\n",
    "# Remplacons les termes Hadoop(HDFS), HDFS et Hadoop par un unique terme hadoop\n",
    "df.Technologies_reelles = df.Technologies_reelles.transform(lambda x:re.sub('(.+\\(hdfs\\)|hdfs)','hadoop',x))\n",
    "# Enlevons de la liste des technoloiges les termes anglais, machine learning, big data, deep learning, scoring\n",
    "df.Technologies_reelles = df.Technologies_reelles.transform(lambda x:re.sub('(anglais|big data|machine learning|deep learning|scoring|ai|map-reduce)','',x))\n",
    "# creeons un dataset avec chacune des technologies comme columne\n",
    "mlb = MultiLabelBinarizer()\n",
    "technologies = pd.DataFrame(mlb.fit_transform(df.Technologies_reelles.str.split('/')),columns=mlb.classes_, index=df.index)\n",
    "#enlever la columne nulle\n",
    "technologies = technologies.drop('', axis=1)\n",
    "#verifions si une technologie n'est pas presente 2 fois sur une meme ligne\n",
    "####### ecrire le code\n",
    "# mettre en minuscule le texte\n",
    "technologie_count = technologies.agg('sum').sort_values(ascending=False)"
   ]
  },
  {
   "cell_type": "code",
   "execution_count": 77,
   "metadata": {},
   "outputs": [
    {
     "name": "stdout",
     "output_type": "stream",
     "text": [
      "les 5 technos les plus utilisees sont ['python' 'r' 'sql' 'hadoop' 'java']\n"
     ]
    }
   ],
   "source": [
    "message = 'les 5 technos les plus utilisees sont {}'\n",
    "print(message.format(technologie_count.index.values[0:5]))"
   ]
  },
  {
   "cell_type": "markdown",
   "metadata": {},
   "source": [
    "Cette liste me parait convenable au vu de la definition de technologies et logiciels meme si certains termes peuvent être regrouper ensemble comme python et ses librairies ou la question qu'il aurait à poser est \n",
    "qu'es ce la maitrise de python?\n",
    "<br> Nous allons evoluer avec cette liste"
   ]
  },
  {
   "cell_type": "code",
   "execution_count": null,
   "metadata": {},
   "outputs": [],
   "source": [
    "def plotting_most_used_technologies(number, liste_technologies):\n",
    "    \"\"\"\n",
    "    INPUT\n",
    "    number : number of technologies\n",
    "    liste_technologies : liste des technologies\n",
    "    OUTPUT\n",
    "    return the number most used technologies\n",
    "    \"\"\"\n",
    "    \n",
    "    # faire le decompte des technologies individuelles dans la  liste\n",
    "    techno_names, techno_count = np.unique(liste_technologies, return_counts=True)\n",
    "    # Avoir les index des \"number\" technologies les plus utilisees\n",
    "    n_used_techno_index = np.argsort(techno_count)[-number:]\n",
    "    # Avoir les noms de ces technologies\n",
    "    n_used_techno_names = techno_names[n_used_techno_index]\n",
    "    # Regrouper toutes les autres technologies dans une grosse categorie appelee Autres\n",
    "    n_used_techno_count = techno_count[n_used_techno_index]\n",
    "    n_used_techno_count = np.append(n_used_techno_count, \n",
    "                                    len(liste_technologies)-sum(n_used_techno_count))\n",
    "\n",
    "    n_used_techno_names = np.append(n_used_techno_names, \"Autres technos\") #rajouter les autres qu'on a pas comptabiliser\n",
    "    explode = np.zeros(number)\n",
    "    explode[0:number-1] = 0.1\n",
    "    explode = tuple(explode)\n",
    "    fig1, ax1 = plt.subplots()\n",
    "    ax1.pie(n_used_techno_count, labels=n_used_techno_names, autopct='%1.1f%%',\n",
    "            shadow=True, startangle=180)\n",
    "    ax1.axis('equal')\n",
    "    ax1.set_title(str(number)+' technos les plus utilisees')\n",
    "    plt.show()\n",
    "\n",
    "\n",
    "\n",
    "##### Tracer un histograme horizontale\n",
    "def plot_horizontal_histogram(list_of_elements, elt):\n",
    "    \"\"\" INPUT\n",
    "    - list of elements to plot\n",
    "    -list of elements to highlight\n",
    "    OUPUT\n",
    "    -horizontal bar chat\n",
    "    \"\"\"\n",
    "    dataframe = pd.DataFrame(data=liste_des_logiciels_utilises, columns=['liste_elements'])\n",
    "    liste_elements = dataframe['liste_elements'].\\\n",
    "                     value_counts(normalize=True, sort=True, ascending=False)[:elt].index\n",
    "    dataframe[~dataframe.liste_elements.isin(liste_elements)] = 'Autres technos' \n",
    "    ax = sb.barplot(x=dataframe['liste_elements'].value_counts(normalize=True, sort=True, ascending=False)[:elt+1].values, \n",
    "                y=dataframe['liste_elements'].value_counts(normalize=True, sort=True, ascending=False)[:elt+1].index)\n",
    "    plt.title(str(elt)+' technos les plus utilisees')\n",
    "\n",
    "nombre_technos = 5\n",
    "plotting_most_used_technologies(nombre_technos, liste_des_logiciels_utilises)\n",
    "plot_horizontal_histogram(liste_des_logiciels_utilises, nombre_technos)"
   ]
  },
  {
   "cell_type": "markdown",
   "metadata": {},
   "source": [
    "Conclusion <br>Comme on peut le constater sur le camembert et le barchart <br> Python vient en première position des languages utilisés  par les personnes de la data avec un score de <b>15.3%</b>, suivi de près par le langage R, prisée des statisticiens <b>10.0%</b>, Ensuite viennent des outils de gestion et de requetage de la donnee comme SQL <b>5.9%</b>, Hadoop <b>3.6%</b>. <br> Java lui est moins utilisé comparé à Python et R, cela peut être lié au fait que les outils orientés Machine Learning sont plus rares ou moins vulgarisés (prisés)\n",
    "<br> Ces scores representent les taux par rapport à l'ensemble des logiciels mentionnes. Nous nous sommes assurés que chaque observation ne contient aucun doublon. <br> Les <b>N+1</b> dernières technologies ont été rangés dans <b> Autres technos </b>."
   ]
  },
  {
   "cell_type": "markdown",
   "metadata": {},
   "source": [
    "### 8) Réaliser une méthode de clustering non supervisée de votre choix pour faire apparaître 2 clusters que vous jugerez pertinents. Donnez les caractéristiques de chacun des clusters.\n",
    "-  Justifier la performance de votre algorithme grace à une métrique.\n",
    "-  Interpréter votre resultat.  "
   ]
  },
  {
   "cell_type": "markdown",
   "metadata": {},
   "source": [
    "#### 8.1 Le clustering que nous allons realisé ici vise à faire apparaitre deux groupes de profils techniques distincts\n",
    "<br> A cet effet, l'entreprise, le metier, l'experience ne sont pas à mon avis des variables essentielles\n",
    "<br> Nous allons creer des <b>dummies variables</b> avec la variable <b>Technologies_reelles</b>. A cela nous ajouterons le diplome qui est aussi determinant pour connaitre les profils techniques.\n",
    "<br> A cet effet, nous utiliserons un autre dataset que nous nomerons <b> profil_technique</b>"
   ]
  },
  {
   "cell_type": "code",
   "execution_count": 78,
   "metadata": {},
   "outputs": [],
   "source": [
    "\n",
    "technologie_reelle = pd.DataFrame(mlb.fit_transform(df.Technologies_reelles.str.split('/')),columns=mlb.classes_, index=df.index)\n",
    "technologie_reelle = technologie_reelle.drop('',axis=1)#element non desire issu du split\n",
    "metiers = pd.get_dummies(df.Metier)\n",
    "experiences = pd.get_dummies(df.Exp_label)\n",
    "profil_technique = pd.concat([technologie_reelle, metiers, experiences], axis=1)"
   ]
  },
  {
   "cell_type": "markdown",
   "metadata": {},
   "source": [
    "Il s'agira ici de remplacer toute les variables categorielles par des variables numeriques avec le one hot encoding. \n",
    "On peut supprimer la variable metier pour cette etude, par ce que le metier correspont approximativement a une certaine categorie de competences techniques plus ou moins defini, l'entreprise aussi ne semble pas être une variable pertinente, de meme que la ville ou l'emploi est effectué\n",
    "Le nombre d annee d experience peut definir un profil technique on va get dummies la variable cree"
   ]
  },
  {
   "cell_type": "markdown",
   "metadata": {},
   "source": [
    "### Reduction de la dimensionnalite concernant les technologies"
   ]
  },
  {
   "cell_type": "code",
   "execution_count": 79,
   "metadata": {},
   "outputs": [
    {
     "data": {
      "text/plain": [
       "[<matplotlib.lines.Line2D at 0x1eb65d3ebe0>]"
      ]
     },
     "execution_count": 79,
     "metadata": {},
     "output_type": "execute_result"
    },
    {
     "data": {
      "image/png": "[encoded data removed]",
      "text/plain": [
       "<Figure size 432x288 with 1 Axes>"
      ]
     },
     "metadata": {
      "needs_background": "light"
     },
     "output_type": "display_data"
    }
   ],
   "source": [
    "percentage_variance_explained = []\n",
    "for elt in range(1,profil_technique.shape[1]):\n",
    "    tsvd = PCA(n_components=elt)\n",
    "    X =  tsvd.fit_transform(profil_technique)\n",
    "    percentage_variance_explained.append(tsvd.explained_variance_ratio_[0:elt].sum())\n",
    " \n",
    "plt.plot(list(range(1, profil_technique.shape[1])), percentage_variance_explained)"
   ]
  },
  {
   "cell_type": "code",
   "execution_count": 80,
   "metadata": {},
   "outputs": [
    {
     "name": "stdout",
     "output_type": "stream",
     "text": [
      "pourcentage explique 0.9387028038529633 \n",
      "\n"
     ]
    }
   ],
   "source": [
    "from sklearn.decomposition import TruncatedSVD\n",
    "\n",
    "number_of_components = 25\n",
    "tsvd = PCA(n_components=number_of_components)\n",
    "software_maitrise_to_take =  tsvd.fit_transform(profil_technique)\n",
    "print('pourcentage explique {} \\n'.format(tsvd.explained_variance_ratio_[0:number_of_components].sum()))\n",
    " "
   ]
  },
  {
   "cell_type": "markdown",
   "metadata": {},
   "source": [
    "#### Utilisation du KMean"
   ]
  },
  {
   "cell_type": "code",
   "execution_count": 81,
   "metadata": {},
   "outputs": [
    {
     "name": "stdout",
     "output_type": "stream",
     "text": [
      "avant reduction dimensionnalite 0.18727987328240925 \n",
      "\n",
      "apres reduction dimensionnalite 0.19867763861254475 \n",
      "\n"
     ]
    }
   ],
   "source": [
    "kmeans = KMeans(init='k-means++', n_clusters=2, n_init=10)\n",
    "preds_kmean = kmeans.fit_predict(profil_technique)\n",
    "clustering_validity = silhouette_score(profil_technique, preds_kmean)\n",
    "print('avant reduction dimensionnalite {} \\n'.format(clustering_validity))\n",
    "\n",
    "kmeans2 = KMeans(init='k-means++', n_clusters=2, n_init=10)\n",
    "preds2_kmean = kmeans.fit_predict(software_maitrise_to_take)\n",
    "clustering_validity2 = silhouette_score(software_maitrise_to_take, preds2_kmean)\n",
    "print('apres reduction dimensionnalite {} \\n'.format(clustering_validity2))\n",
    "#creation d'une columne pour le resultat de prediction\n",
    "df['profil_technique_kmean'] = preds2_kmean"
   ]
  },
  {
   "cell_type": "code",
   "execution_count": 82,
   "metadata": {},
   "outputs": [
    {
     "ename": "NameError",
     "evalue": "name 'get_list_of_technologies' is not defined",
     "output_type": "error",
     "traceback": [
      "\u001b[1;31m---------------------------------------------------------------------------\u001b[0m",
      "\u001b[1;31mNameError\u001b[0m                                 Traceback (most recent call last)",
      "\u001b[1;32m<ipython-input-82-b97de4d0dd02>\u001b[0m in \u001b[0;36m<module>\u001b[1;34m\u001b[0m\n\u001b[0;32m      1\u001b[0m \u001b[0mgroupe_0\u001b[0m \u001b[1;33m=\u001b[0m \u001b[0mdf\u001b[0m\u001b[1;33m[\u001b[0m\u001b[0mdf\u001b[0m\u001b[1;33m.\u001b[0m\u001b[0mprofil_technique_kmean\u001b[0m\u001b[1;33m==\u001b[0m\u001b[1;36m0\u001b[0m\u001b[1;33m]\u001b[0m\u001b[1;33m\u001b[0m\u001b[1;33m\u001b[0m\u001b[0m\n\u001b[0;32m      2\u001b[0m \u001b[0mgroupe_1\u001b[0m \u001b[1;33m=\u001b[0m \u001b[0mdf\u001b[0m\u001b[1;33m[\u001b[0m\u001b[0mdf\u001b[0m\u001b[1;33m.\u001b[0m\u001b[0mprofil_technique_kmean\u001b[0m\u001b[1;33m==\u001b[0m\u001b[1;36m1\u001b[0m\u001b[1;33m]\u001b[0m\u001b[1;33m\u001b[0m\u001b[1;33m\u001b[0m\u001b[0m\n\u001b[1;32m----> 3\u001b[1;33m \u001b[0mliste_logiciel_0\u001b[0m\u001b[1;33m,\u001b[0m \u001b[0mliste_des_logiciels_utilises_0\u001b[0m \u001b[1;33m=\u001b[0m \u001b[0mget_list_of_technologies\u001b[0m\u001b[1;33m(\u001b[0m\u001b[0mgroupe_0\u001b[0m\u001b[1;33m,\u001b[0m \u001b[1;34m'Technologies_reelles'\u001b[0m\u001b[1;33m,\u001b[0m \u001b[1;34m'/'\u001b[0m\u001b[1;33m)\u001b[0m\u001b[1;33m\u001b[0m\u001b[1;33m\u001b[0m\u001b[0m\n\u001b[0m\u001b[0;32m      4\u001b[0m \u001b[0mliste_logiciel_1\u001b[0m\u001b[1;33m,\u001b[0m \u001b[0mliste_des_logiciels_utilises_1\u001b[0m \u001b[1;33m=\u001b[0m \u001b[0mget_list_of_technologies\u001b[0m\u001b[1;33m(\u001b[0m\u001b[0mgroupe_1\u001b[0m\u001b[1;33m,\u001b[0m \u001b[1;34m'Technologies_reelles'\u001b[0m\u001b[1;33m,\u001b[0m \u001b[1;34m'/'\u001b[0m\u001b[1;33m)\u001b[0m\u001b[1;33m\u001b[0m\u001b[1;33m\u001b[0m\u001b[0m\n\u001b[0;32m      5\u001b[0m \u001b[0mplotting_most_used_technologies\u001b[0m\u001b[1;33m(\u001b[0m\u001b[1;36m5\u001b[0m\u001b[1;33m,\u001b[0m \u001b[0mliste_des_logiciels_utilises_0\u001b[0m\u001b[1;33m)\u001b[0m\u001b[1;33m\u001b[0m\u001b[1;33m\u001b[0m\u001b[0m\n",
      "\u001b[1;31mNameError\u001b[0m: name 'get_list_of_technologies' is not defined"
     ]
    }
   ],
   "source": [
    "groupe_0 = df[df.profil_technique_kmean==0]\n",
    "groupe_1 = df[df.profil_technique_kmean==1]\n",
    "liste_logiciel_0, liste_des_logiciels_utilises_0 = get_list_of_technologies(groupe_0, 'Technologies_reelles', '/')\n",
    "liste_logiciel_1, liste_des_logiciels_utilises_1 = get_list_of_technologies(groupe_1, 'Technologies_reelles', '/')\n",
    "plotting_most_used_technologies(5, liste_des_logiciels_utilises_0)\n",
    "plotting_most_used_technologies(5, liste_des_logiciels_utilises_1)"
   ]
  },
  {
   "cell_type": "code",
   "execution_count": null,
   "metadata": {},
   "outputs": [],
   "source": [
    "kmeans = AgglomerativeClustering(n_clusters=2)\n",
    "preds_agglomerative = kmeans.fit_predict(profil_technique)\n",
    "clustering_validity = silhouette_score(profil_technique, preds_agglomerative)\n",
    "print('avant reduction dimensionnalite {} \\n'.format(clustering_validity))\n",
    "\n",
    "kmeans2 = AgglomerativeClustering(n_clusters=2)\n",
    "preds2_agglomerative = kmeans2.fit_predict(software_maitrise_to_take)\n",
    "clustering_validity2 = silhouette_score(software_maitrise_to_take, preds2_agglomerative)\n",
    "print('apres reduction dimensionnalite {} \\n'.format(clustering_validity2))\n",
    "\n",
    "# creation d'une columne pour le resultat de prediction\n",
    "df['profil_technique_agglomerative'] = preds2_agglomerative"
   ]
  },
  {
   "cell_type": "code",
   "execution_count": null,
   "metadata": {},
   "outputs": [],
   "source": [
    "groupe_0 = df[df.profil_technique_agglomerative==0]\n",
    "groupe_1 = df[df.profil_technique_agglomerative==1]\n",
    "liste_logiciel_0, liste_des_logiciels_utilises_0 = get_list_of_technologies(groupe_0, 'Technologies_reelles', '/')\n",
    "liste_logiciel_1, liste_des_logiciels_utilises_1 = get_list_of_technologies(groupe_1, 'Technologies_reelles', '/')\n",
    "plotting_most_used_technologies(5, liste_des_logiciels_utilises_0)\n",
    "plotting_most_used_technologies(5, liste_des_logiciels_utilises_1)"
   ]
  },
  {
   "cell_type": "markdown",
   "metadata": {},
   "source": [
    "La qualité du clustering est assez <b> faible </b> et ce malgré la reduction de dimensionnalité qui ameliore ici sensiblement le resultat.\n"
   ]
  },
  {
   "cell_type": "markdown",
   "metadata": {},
   "source": [
    "##### Essayons de trouver à quoi corresponde  ces clusters en terme de denomination metier\n",
    "Je pars de l'hypothèse que le clustering a separer les données en 2 en procedant ainsi,\n",
    "d'une part les data scientist qui sont charger à partir des données, de les analyser, de les pré traiter et de mettre en place des modèles et d'autres part les autres acteurs de la data à savoir les data architectes et les data engineer qui eux mettre en place des moyens afin d'avoir des données propres, accessibles et exploitables.\n"
   ]
  },
  {
   "cell_type": "code",
   "execution_count": null,
   "metadata": {},
   "outputs": [],
   "source": [
    "# Decouvrons la composition des differents groupes en terme de metier\n",
    "df.groupby('profil_technique_kmean')['Metier'].value_counts()"
   ]
  },
  {
   "cell_type": "code",
   "execution_count": null,
   "metadata": {},
   "outputs": [],
   "source": [
    "# Decouvrons la composition des differents groupes en terme de metier\n",
    "df.groupby('profil_technique_agglomerative')['Metier'].value_counts()"
   ]
  },
  {
   "cell_type": "markdown",
   "metadata": {},
   "source": [
    "<b> Notre hypothèse de départ  </b> se voit confirmer\n",
    "Dans un groupe on a les scientist (data scentist et ead data scientist) et dans \n",
    "l'autre des specialistes de la donnee( data architecte et data engineer)\n",
    "##### qualite du clustering\n",
    "La faible qualité du clustering s'explique par  le fait que les clusters crées partagent bon nombre d'elements en commun ( de soft skills) comme <b>python</b> (technologie qui apparait en premier dans les deux groupes) ce qui fait qu'il sont difficilement separable.\n",
    "Aussi, un data scientist peut très bien s'occuper du recueil de la donnée en utilisant les technologies adequates (SQL etc...) pendant que d'autres ne le font pas, ce qui rend la separation entre ces deux classes très difficile.\n"
   ]
  },
  {
   "cell_type": "markdown",
   "metadata": {},
   "source": [
    "### 9) Réaliser la prédiction des métiers manquants dans la base de données par l'algorithme de votre choix\n",
    "-  Justifier la performance de votre algorithme grace à une métrique.\n",
    "-  Interpréter votre resultat.  "
   ]
  },
  {
   "cell_type": "markdown",
   "metadata": {},
   "source": [
    "##### Creation de variable interessantes\n",
    "Creer une variable qui va dire si l'individu en question a fait de longues etudes ou pas <br> <b> longue etudes:</b> (BAC+5 et plus).\n"
   ]
  },
  {
   "cell_type": "code",
   "execution_count": null,
   "metadata": {},
   "outputs": [],
   "source": [
    "def higher_ed(value):\n",
    "    if value =='Phd':\n",
    "        return 'Tres'\n",
    "    elif value=='Master':\n",
    "        return 'Classique'\n",
    "    else:\n",
    "        return 'Low'\n",
    "\n",
    "    \n",
    "df['Hautes_etudes'] = df.Diplome.apply(higher_ed)"
   ]
  },
  {
   "cell_type": "code",
   "execution_count": null,
   "metadata": {},
   "outputs": [],
   "source": [
    "# recuperons les index avec valeurs manquantes de la columne 'Metier'\n",
    "metiers_manquant = df[pd.isnull(df.Metier)]\n",
    "index_metiers_manquants = np.asarray(metiers_manquant.index)"
   ]
  },
  {
   "cell_type": "code",
   "execution_count": null,
   "metadata": {},
   "outputs": [],
   "source": [
    "from sklearn.base import BaseEstimator, TransformerMixin\n",
    "from sklearn.preprocessing import OneHotEncoder\n",
    "from sklearn.preprocessing import MultiLabelBinarizer\n",
    "\n",
    "# definition de quelques classes qui me seront utiles\n",
    "\n",
    "class DataFrameSelector(BaseEstimator, TransformerMixin):\n",
    "    def __init__(self, attribute_names):\n",
    "        self.attribute_names = attribute_names\n",
    "    def fit(self, attribute_names):\n",
    "        return self\n",
    "    def transform(self, X):\n",
    "        encoder = OneHotEncoder()\n",
    "        X = pd.get_dummies((X[self.attribute_names]))\n",
    "        print(X.columns)\n",
    "        return X\n",
    "\n",
    "class MultiLabelDataFrameSelector(BaseEstimator, TransformerMixin):\n",
    "    def __init__(self, attribute_names):\n",
    "        self.attribute_names = attribute_names\n",
    "    def fit(self, attribute_names):\n",
    "        return self\n",
    "    def transform(self, X):\n",
    "        mlb = MultiLabelBinarizer()\n",
    "        X = pd.DataFrame(mlb.fit_transform(X[self.attribute_names].str.split('/')), columns=mlb.classes_)\n",
    "        # enlever la colonne avec '' lie au split\n",
    "        X = X.drop('', axis=1)\n",
    "        print(X.columns)\n",
    "        return X\n"
   ]
  },
  {
   "cell_type": "code",
   "execution_count": null,
   "metadata": {},
   "outputs": [],
   "source": [
    "#definition de quelques fonctions qui me seront utiles\n",
    "def dummies_categorical_var(single_label_list, multi_label_list,\n",
    "                            dataframe):\n",
    "    \"\"\"\n",
    "    create dummies variables from categorical\n",
    "    INPUT\n",
    "    -single_label_list: column with unique label per row\n",
    "    -multi_label_list : column with multiple label per\n",
    "                        row\n",
    "    -dataframe: dataframe with all this columns\n",
    "    OUTPUT\n",
    "    -return a dataframe with dummies variables\n",
    "    \"\"\"\n",
    "    # mettre en place les controles\n",
    "    \n",
    "    # mettre en place des pipelines de donnees en s'appuyant sur le typage\n",
    "    # canard du Pipeline de sklearn\n",
    "    pipeline_mono = Pipeline([('one_hot_encoding', DataFrameSelector(single_label_list))])\n",
    "    pipeline_multi = Pipeline([('multi_label_encoding', MultiLabelDataFrameSelector(multi_label_list))])\n",
    "  \n",
    "    finale_pipeline = FeatureUnion(transformer_list=[('simple_hot_encoding', pipeline_mono),\n",
    "                                                 ('multi label encoding', pipeline_multi),\n",
    "                                                ])\n",
    "\n",
    "    # convertir les variables en valeurs numeriques\n",
    "    numerique_df = finale_pipeline.fit_transform(df)\n",
    "    \n",
    "    # Retirons les variables caracteeristiques avec le metier manquant\n",
    "    metier_manquant = numerique_df[index_metiers_manquants, :]\n",
    "\n",
    "    # Supprimons ces lignes de notre dataset\n",
    "    numerique_df = np.delete(numerique_df, index_metiers_manquants, axis=0)\n",
    "    \n",
    "    return numerique_df, metier_manquant\n",
    "\n",
    "def diviser_dataset(dataframe, numerique_df, ratio_test, column_to_predict):\n",
    "    \"\"\"\n",
    "    diviser le dataset en un jeu de d'apprentissage\n",
    "    et un jeu de test.\n",
    "    -dataframe : le dataset en question avec des variables\n",
    "                 categorielles\n",
    "    - dataframe_2 : dataframe avec OneHotEncoding des \n",
    "                    variables categorielles\n",
    "    - ratio_test: le ratio a attribuer \n",
    "                  à l'apprentissage\n",
    "    column_to_predict : columne que l'on veut \n",
    "                        pouvoir predire\n",
    "    \"\"\"\n",
    "    # mettre en place les garde fou\n",
    "    \n",
    "    # supprimer de la columne à predire les valeurs NaN\n",
    "    df_base = df.dropna(subset=[column_to_predict], how='any').reset_index()\n",
    "    \n",
    "    # on va ici diviser le dataframe en 80% pour l'apprentissage et 20% pour le test\n",
    "    split = StratifiedShuffleSplit(n_splits=1, test_size=ratio_test, random_state=42)\n",
    "    for train_index, test_index in split.split(df_base, df_base.Metier):\n",
    "        strat_train_set = numerique_df[train_index, :]\n",
    "        strat_test_set = numerique_df[test_index, :]\n",
    "    strat_train_set = np.column_stack((strat_train_set, df_base.loc[train_index,'Experience']))\n",
    "    strat_test_set = np.column_stack((strat_test_set, df_base.loc[test_index,'Experience']))\n",
    "    # recuperons les variables cibles\n",
    "    y_train_set = df_base.loc[train_index, column_to_predict]\n",
    "    y_test_set = df_base.loc[test_index, column_to_predict]\n",
    "    \n",
    "    return strat_train_set, y_train_set, strat_test_set, y_test_set\n",
    "\n",
    "\n",
    "def evaluate_random_forest_performance(grid_search, diff_jeu):\n",
    "    \"\"\"evaluer un modele de random forest pour la prediction\n",
    "       en selectionnant le meilleur jeu d'hyperparametres\n",
    "       possibles\n",
    "       INPUT\n",
    "       -grid_search : ensemble des parametres grid search\n",
    "       - diff jeu : tuple contenant le jeu d'apprentissage,\n",
    "                    le label d'apprentissage, le jeu de test\n",
    "                    et les labels de test.\n",
    "       OUTPUT\n",
    "       - print the prediction on the test set\n",
    "       - return a the confusion matrix\n",
    "    \"\"\"\n",
    "    model = RandomForestClassifier()\n",
    "    strat_train_set = diff_jeu[0] # jeu d'entrainement\n",
    "    y_train_set = diff_jeu[1] # label d'entrainement\n",
    "    strat_train_set = diff_jeu[2]\n",
    "    y_train_set = diff_jeu[3]\n",
    "    # faire une recherche des meilleurs hyperparametres avec une cross validation de 5\n",
    "    rf_random = GridSearchCV(estimator = model, param_grid = grid_search, cv = 5, verbose=2, n_jobs = -1)\n",
    "    # entrainer l'arbre de foret aleatoires\n",
    "    rf_random.fit(strat_train_set, y_train_set)\n",
    "    # selectionner le meilleur modele à l'issu du GridSearchCV\n",
    "    chosen_model = rf_random.best_estimator_\n",
    "    # score du meilleur modele sur le jeu de validation\n",
    "    print('score du meilleur modele sur le jeu de validation {}% \\n'.format(rf_random.best_score_*100))\n",
    "    # prediction on test_set\n",
    "    prediction_test_set = chosen_model.predict(strat_test_set)\n",
    "    print('accuracy on test set : {}% \\n'.format(accuracy_score(y_test_set, prediction_test_set)*100))\n",
    "    confusion_matrice = confusion_matrix(y_test_set, prediction_test_set, labels=list(np.unique(y_test_set)))\n",
    "    return chosen_model, confusion_matrice\n",
    "\n",
    "def prediction_metier_manquants(metier_manquant, attribute_array, chosen_model):\n",
    "    \"\"\"\n",
    "    predire les metiers manquants\n",
    "    INPUT\n",
    "    -attribute_array : jeu de donnees ne contenant que les \n",
    "                 metiers manquants\n",
    "    - chosen_model : modele de prediction charge \n",
    "                     d'effectuer la prediction\n",
    "    OUTPUT\n",
    "    dataset with column 'metiers_predit' qui correspond\n",
    "    a la prediction qui a ete faite\n",
    "    \"\"\"\n",
    "    metiers_a_predire = metier_manquant.copy()\n",
    "    #rajout de la columne experience\n",
    "    attribute_array = np.column_stack((attribute_array, metiers_a_predire.loc[:,'Experience']))\n",
    "    # prediction avec le modele des classes manquantes\n",
    "    pred_classes_manquantes = chosen_model.predict(attribute_array)\n",
    "    # ajouter dans le dataset les metiers predits\n",
    "    metiers_a_predire.insert(2,'Metiers_predits', pred_classes_manquantes)\n",
    "    # re ordonner les index du dataset\n",
    "    metiers_a_predire = metiers_a_predire.reset_index()\n",
    "    return metiers_a_predire\n"
   ]
  },
  {
   "cell_type": "markdown",
   "metadata": {},
   "source": [
    "#### Choix de l'algorithme de classification\n",
    "Pour le choix de l'algorithme de classification, nous allons ici directement utiliser l'artillerie lourde et \n",
    "selectionner un algorithme de type ensembliste type <b> random forest </b>.\n",
    "<br> Ce choix se justifie notamment par le fait que l'erreur commise lors d'une tache de classification se decompose en deux.\n",
    "D'une part une <b>erreur bayesienne</b> lie a la distribution des classes et la structure conditionnelle du problème irreductible et une  deuxieme erreur dite <b>ajoutee</b> lié au classifieur qu'on choisie.\n",
    "Mettre ensemble plusieurs algorithmes de machine learning qui se corrige les uns les autres ou une decision est prise sur l'ensemble des reponses fournie (à la fin pour les <b> random forest </b> et au debut pour les algo du type <b> xgboost </b>) permet d'apporter une robustesse et une justesse supplementaire à la reponse.\n",
    "<br> <br> Le choix de <b> GridSearchCV </b> par rapport à <b> RandomizedGridSearchCV </b> se justifie ici par la taille du dataset, assez petit et par les capacités de ma machine. \n",
    "<br> Bien vrai que le <b> RandomizedGridSearch </b> s'effectue plus rapidement, il donne de moins bon resultats en general sur de petit dataset.\n",
    "<br> <br> On s'appuie sur le typage <b> canard </b> des transformateurs pipeline pour en creer des customiser\n",
    "et transformer nos variables categorielle en variable numerique\n",
    "\n",
    "<br> L'emploi du <b> StratifiedShuffleSplit </b> est préferé ici à un simple <b> train_test_split </b> pour ne pas créer de biais dans les données d'apprentissage.\n",
    "<br> En effet un tirage purement aleatoire pourrait sous representer ou sur representer une classe dans le jeu d'apprentissage par rapport au jeu de depart ce qui poserait des problemes pour la phase de test.\n",
    "<br> <br> Dans les differents dataset d'entrainement et de test, nous allons proceder à la transformation des variables categorielles en dummies.\n",
    "<br> On l'a deja plus haut pour les variables <b> Exp_label</b>, <b>Diplome</b> <b>Metier</b> et <b>Technologies_reelles</b>\n",
    "<b> La ville et l'entreprise </b> ne definissent à priori pas le metier mais nous allons les laisser dans un premier temps et observer les performances du modèle."
   ]
  },
  {
   "cell_type": "code",
   "execution_count": null,
   "metadata": {},
   "outputs": [],
   "source": [
    "# tester avec un ensemble de variable qui me semblent pertinente compte tenu de la classification\n",
    "# à effectuer\n",
    "single_frame_selector = ['Diplome', 'Exp_label', 'Hautes_etudes','profil_technique_kmean'] \n",
    "multiple_frame_selector = 'Technologies_reelles'\n",
    "ratio_test = 0.2\n",
    "numerique_df, metier_manquant = dummies_categorical_var(single_frame_selector, multiple_frame_selector,\n",
    "                                                        df)\n",
    "strat_train_set, y_train_set, strat_test_set, y_test_set = diviser_dataset(df, numerique_df, ratio_test, 'Metier' )"
   ]
  },
  {
   "cell_type": "code",
   "execution_count": null,
   "metadata": {},
   "outputs": [],
   "source": [
    "df.Experience.isnull().mean()"
   ]
  },
  {
   "cell_type": "code",
   "execution_count": null,
   "metadata": {},
   "outputs": [],
   "source": [
    "# Number of trees in random forest\n",
    "n_estimators = [int(x) for x in np.linspace(start = 10, stop = 100, num = 50)]\n",
    "# Number of features to consider at every split\n",
    "max_features =['auto', 'log2',None] \n",
    "# Method of selecting samples for training each tree\n",
    "bootstrap = [True, False]\n",
    "\n",
    "grid_search = {'n_estimators': n_estimators,\n",
    "               'max_features': max_features,\n",
    "               'bootstrap': bootstrap}\n",
    "\n",
    "repartition_dataset = (strat_train_set, y_train_set, strat_test_set, y_test_set)\n",
    "chosen_model, confusion_matrice = evaluate_random_forest_performance(grid_search, repartition_dataset)\n",
    "print('matrice de confusion \\n {} '.format(confusion_matrice))"
   ]
  },
  {
   "cell_type": "markdown",
   "metadata": {},
   "source": [
    "On s'apercoit ici que l'algorithme arrive bien à classer les <b> Data architecte </b> et les <b> Data engineer </b>\n",
    "<br> Il a cependant plus de mal à distinguer les <b> data scientist </b> des <b> lead data scientist </b>.\n",
    "En effet <b> 22 </b> data scientist ont été percu comme des <b> lead data scientist </b> et <b> 192 </b> lead data scientists comme des simples data scientist.\n",
    "<br> Un problème se pose pour les autres corps de metiers comme les <b>Data architecte</b> et les <b> Data engineer </b>.\n",
    "<br> En effet, il n'est pas precisé si ceux ci sont des <b>lead</b> dans leur domaines c'est à dire possèdent des qualités manageriales, ce qui peut être le cas vu le nombre d'année d'experience de certains d'eux.\n",
    "<br> Afin de separer nos classes <b> lead data scientist </b> et <b> data scientist </b>, nous allons creer une nouvelle variable categorielle <b> IsLead </b> qui sera à <b> True </b> Pour les <b> lead data scientist </b>, à <b> False </b> pour les <b> data scientist </b> et a la valeur <b> Unknown </b> pour les autres corps de metiers vu que l'information n'est pas specifie.\n",
    "<br> Voyons maintenant l'impact  de cette nouvelle variable sur notre <b> matrice de confusion </b> et notre <b> taux de bonne classification </b>.\n"
   ]
  },
  {
   "cell_type": "markdown",
   "metadata": {},
   "source": [
    "##### Prediction des valeurs manquantes"
   ]
  },
  {
   "cell_type": "code",
   "execution_count": null,
   "metadata": {},
   "outputs": [],
   "source": [
    "metiers_a_predire = prediction_metier_manquants(metiers_manquant, metier_manquant, chosen_model)\n",
    "\n",
    "#avoir un apercu des predictions à effectuer\n",
    "metiers_a_predire.head(15)"
   ]
  },
  {
   "cell_type": "markdown",
   "metadata": {},
   "source": [
    "Peut t'on ameliorer les performances de notre modele en rajoutant une variable ?\n",
    "<br> En analysant notre matrice de confusion, on se rend compte que la majorité des erreurs est lié à la confusion entre les metiers de <b> data scientist </b> et de <b> lead data scientist </b>. Essayons de separer ces variables.\n",
    "<br>En partant du fait qu'un lead data scientist est un data scientist qui gère une équipe, nous allons creer une variable categorielle que l'on appellera <b> is_lead </b> qui dira si l'individu est un <b>lead</b> dans son domaine ou pas.\n",
    "<br> La precision n'ayant pas été faite pour les postes de <b> data architecte </b> et de <b> data engineer </b>, nous mettrons à ces postes la la valeur <b> Unknown </b>"
   ]
  },
  {
   "cell_type": "code",
   "execution_count": null,
   "metadata": {},
   "outputs": [],
   "source": [
    "chosen_model.feature_importances_"
   ]
  },
  {
   "cell_type": "code",
   "execution_count": null,
   "metadata": {},
   "outputs": [],
   "source": [
    "df_scientist = df.query(\"Metier=='Data scientist'\")\n",
    "liste_logiciel1, liste_des_logiciels_utilises1 = get_list_of_technologies(df_scientist, 'Technologies', '/')\n",
    "print('liste unique des logiciels data scientist: \\n {}'.format(liste_logiciel1))"
   ]
  },
  {
   "cell_type": "code",
   "execution_count": null,
   "metadata": {},
   "outputs": [],
   "source": [
    "df_lead_scientist = df.query(\"Metier=='Lead data scientist'\")\n",
    "liste_logiciel, liste_des_logiciels_utilises = get_list_of_technologies(df_lead_scientist, 'Technologies', '/')\n",
    "print('liste unique des logiciels data scientist: \\n {}'.format(liste_logiciel))"
   ]
  },
  {
   "cell_type": "code",
   "execution_count": null,
   "metadata": {},
   "outputs": [],
   "source": [
    "set(liste_logiciel1)-set(liste_logiciel)"
   ]
  },
  {
   "cell_type": "code",
   "execution_count": null,
   "metadata": {},
   "outputs": [],
   "source": [
    "set(liste_logiciel)-set(liste_logiciel1)"
   ]
  },
  {
   "cell_type": "markdown",
   "metadata": {},
   "source": [
    "### 10) Décrire de façon détaillée les différentes étapes pour mener à bien un projet data complexe.\n",
    "\n",
    "Dans le cadre d’une campagne de recrutement vous avez reçu un ensemble de cv qui ne sont pas à jour (le poste actuel n’est pas présent). Deux exemple de CV vous sont donnés en pièce jointe (il n'y a pas de mise en page type). Tous les CV sont au format PDF.\n",
    "\n",
    "On souhaite connaitre le poste actuel de chaque candidat.\n",
    "\n",
    "-  Quelles sont les différentes étapes nécessaires à la réalisation d'un tel projet?\n",
    "-  Pour chaque étape, détaillez les taches à accomplir, les méthodes à suivre, les pistes possibles, les points critiques.\n",
    "-  Justifiez consciencieusement vos choix\n"
   ]
  },
  {
   "cell_type": "markdown",
   "metadata": {},
   "source": [
    "#### Differents étapes pour mener a bien un projet data\n"
   ]
  },
  {
   "cell_type": "code",
   "execution_count": null,
   "metadata": {},
   "outputs": [],
   "source": []
  }
 ],
 "metadata": {
  "kernelspec": {
   "display_name": "Python 3",
   "language": "python",
   "name": "python3"
  },
  "language_info": {
   "codemirror_mode": {
    "name": "ipython",
    "version": 3
   },
   "file_extension": ".py",
   "mimetype": "text/x-python",
   "name": "python",
   "nbconvert_exporter": "python",
   "pygments_lexer": "ipython3",
   "version": "3.7.3"
  }
 },
 "nbformat": 4,
 "nbformat_minor": 2
}
