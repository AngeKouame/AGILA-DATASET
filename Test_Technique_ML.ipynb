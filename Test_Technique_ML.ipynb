{
 "cells": [
  {
   "cell_type": "markdown",
   "metadata": {},
   "source": [
    "# Part I : Quel(le) data scientist êtes-vous ?\n",
    "## Contexte de l’analyse\n",
    "\n",
    "Elu métier le plus sexy par la Harvard Business Review en octobre 2012, le data scientist représente un profil rare qui exige de nombreuses compétences.\n",
    "\n",
    "A partir d'un dataset Aquila, vous réaliserez :\n",
    "- un clustering non supervisé afin d'identifier 2 groupes de profils techniques distinctes\n",
    "- une prédiction des profils dont le métier n'est pas labellisé\n",
    "\n",
    "\n",
    "## Données\n",
    "data.csv contient 6 variables : \n",
    "    - 'Entreprise' correspond à une liste d'entreprises fictive\n",
    "    - 'Metier' correspond au métier parmi data scientist, lead data scientist, data engineer et data architecte\n",
    "    - 'Technologies' correspond aux compétences maîtrisées par le profil\n",
    "    - 'Diplome' correspond à son niveau scolaire (Bac, Master, PhD,...)\n",
    "    - 'Experience' correspond au nombre d'années d'expériences\n",
    "    - 'Ville' correspond au lieu de travail\n",
    "    \n",
    "\n",
    "\n",
    "## Répondez aux questions \n",
    "\n",
    "Bonne chance!"
   ]
  },
  {
   "cell_type": "code",
   "execution_count": 1,
   "metadata": {
    "collapsed": true
   },
   "outputs": [],
   "source": [
    "# Import des libraries classique (numpy, pandas, ...)\n",
    "import pandas as pd\n",
    "import numpy as np\n",
    "import re\n",
    "import sklearn as sk\n",
    "import seaborn as sb\n",
    "from matplotlib import pyplot as plt\n",
    "from sklearn.metrics  import *\n",
    "%matplotlib inline\n",
    "plt.style.use('ggplot')\n"
   ]
  },
  {
   "cell_type": "markdown",
   "metadata": {},
   "source": [
    "### 1) Importer le tableau de données dans un dataframe "
   ]
  },
  {
   "cell_type": "code",
   "execution_count": 2,
   "metadata": {},
   "outputs": [
    {
     "name": "stdout",
     "output_type": "stream",
     "text": [
      "Entreprise,Metier,Technologies,Diplome,Experience,Ville\n",
      "\n",
      "Sanofi,Data scientist,Matlab/Python/Pyspark/Scikit-learn/Tensorflow,Master,1,Paris\n",
      "\n",
      "Massachusetts General Hospital(MGH),Data architecte,Python/Java/Scala/MongoDB,Master,3,Marseille\n",
      "\n",
      "Delve,Lead data scientist,SPSS/SQL/Teradata/R/Python/Tensorflow/scikit-learn,Master,3,Nantes\n",
      "\n",
      "Ann & Robert H. Lurie Children’s Hospital of Chicago,Data scientist,C/C++/Java/Python,Master,\"1,5\",Marseille\n",
      "\n",
      "Arm,Data scientist,Matlab/Python/C++/numpy/Tensorflow/scikit-learn,Phd,,Bordeaux\n",
      "\n"
     ]
    }
   ],
   "source": [
    "# Avoir un apercu des donnees, detecter le separateur\n",
    "# et le caractere utilise pour les virgules\n",
    "ligne_a_lire = 6\n",
    "with open('data.csv','r') as file:\n",
    "    for i in range(ligne_a_lire):\n",
    "        print(file.readline())"
   ]
  },
  {
   "cell_type": "markdown",
   "metadata": {},
   "source": [
    "Le separateur de columne ici est une <b>','</b>. Nous allons l'utiliser avec pandas "
   ]
  },
  {
   "cell_type": "code",
   "execution_count": 3,
   "metadata": {
    "collapsed": true
   },
   "outputs": [],
   "source": [
    "# Import du dataframe \"data.csv\"\n",
    "filename = 'data.csv'\n",
    "df = pd.read_csv(filename, sep=',', decimal=',')"
   ]
  },
  {
   "cell_type": "code",
   "execution_count": 4,
   "metadata": {},
   "outputs": [
    {
     "data": {
      "text/html": [
       "<div>\n",
       "<style>\n",
       "    .dataframe thead tr:only-child th {\n",
       "        text-align: right;\n",
       "    }\n",
       "\n",
       "    .dataframe thead th {\n",
       "        text-align: left;\n",
       "    }\n",
       "\n",
       "    .dataframe tbody tr th {\n",
       "        vertical-align: top;\n",
       "    }\n",
       "</style>\n",
       "<table border=\"1\" class=\"dataframe\">\n",
       "  <thead>\n",
       "    <tr style=\"text-align: right;\">\n",
       "      <th></th>\n",
       "      <th>Entreprise</th>\n",
       "      <th>Metier</th>\n",
       "      <th>Technologies</th>\n",
       "      <th>Diplome</th>\n",
       "      <th>Experience</th>\n",
       "      <th>Ville</th>\n",
       "    </tr>\n",
       "  </thead>\n",
       "  <tbody>\n",
       "    <tr>\n",
       "      <th>0</th>\n",
       "      <td>Sanofi</td>\n",
       "      <td>Data scientist</td>\n",
       "      <td>Matlab/Python/Pyspark/Scikit-learn/Tensorflow</td>\n",
       "      <td>Master</td>\n",
       "      <td>1.0</td>\n",
       "      <td>Paris</td>\n",
       "    </tr>\n",
       "    <tr>\n",
       "      <th>1</th>\n",
       "      <td>Massachusetts General Hospital(MGH)</td>\n",
       "      <td>Data architecte</td>\n",
       "      <td>Python/Java/Scala/MongoDB</td>\n",
       "      <td>Master</td>\n",
       "      <td>3.0</td>\n",
       "      <td>Marseille</td>\n",
       "    </tr>\n",
       "    <tr>\n",
       "      <th>2</th>\n",
       "      <td>Delve</td>\n",
       "      <td>Lead data scientist</td>\n",
       "      <td>SPSS/SQL/Teradata/R/Python/Tensorflow/scikit-l...</td>\n",
       "      <td>Master</td>\n",
       "      <td>3.0</td>\n",
       "      <td>Nantes</td>\n",
       "    </tr>\n",
       "    <tr>\n",
       "      <th>3</th>\n",
       "      <td>Ann &amp; Robert H. Lurie Children’s Hospital of C...</td>\n",
       "      <td>Data scientist</td>\n",
       "      <td>C/C++/Java/Python</td>\n",
       "      <td>Master</td>\n",
       "      <td>1.5</td>\n",
       "      <td>Marseille</td>\n",
       "    </tr>\n",
       "    <tr>\n",
       "      <th>4</th>\n",
       "      <td>Arm</td>\n",
       "      <td>Data scientist</td>\n",
       "      <td>Matlab/Python/C++/numpy/Tensorflow/scikit-learn</td>\n",
       "      <td>Phd</td>\n",
       "      <td>NaN</td>\n",
       "      <td>Bordeaux</td>\n",
       "    </tr>\n",
       "  </tbody>\n",
       "</table>\n",
       "</div>"
      ],
      "text/plain": [
       "                                          Entreprise               Metier  \\\n",
       "0                                             Sanofi       Data scientist   \n",
       "1                Massachusetts General Hospital(MGH)      Data architecte   \n",
       "2                                              Delve  Lead data scientist   \n",
       "3  Ann & Robert H. Lurie Children’s Hospital of C...       Data scientist   \n",
       "4                                                Arm       Data scientist   \n",
       "\n",
       "                                        Technologies Diplome  Experience  \\\n",
       "0      Matlab/Python/Pyspark/Scikit-learn/Tensorflow  Master         1.0   \n",
       "1                          Python/Java/Scala/MongoDB  Master         3.0   \n",
       "2  SPSS/SQL/Teradata/R/Python/Tensorflow/scikit-l...  Master         3.0   \n",
       "3                                  C/C++/Java/Python  Master         1.5   \n",
       "4    Matlab/Python/C++/numpy/Tensorflow/scikit-learn     Phd         NaN   \n",
       "\n",
       "       Ville  \n",
       "0      Paris  \n",
       "1  Marseille  \n",
       "2     Nantes  \n",
       "3  Marseille  \n",
       "4   Bordeaux  "
      ]
     },
     "execution_count": 4,
     "metadata": {},
     "output_type": "execute_result"
    }
   ],
   "source": [
    "# Avoir un apercu des premieres lignes du fichier\n",
    "nombre_lignes_a_visualiser = 5\n",
    "df.head(nombre_lignes_a_visualiser)"
   ]
  },
  {
   "cell_type": "markdown",
   "metadata": {},
   "source": [
    "### 2) Combien y a t-il d'observations dans ce dataset? Y a t-il des valeurs manquantes? "
   ]
  },
  {
   "cell_type": "code",
   "execution_count": 5,
   "metadata": {},
   "outputs": [
    {
     "name": "stdout",
     "output_type": "stream",
     "text": [
      " methode 1: nombre d'observations du dataset 9582 \n",
      "\n",
      " methode 2: nombre d'observations du dataset 9582 \n",
      "\n"
     ]
    }
   ],
   "source": [
    "# methode 1 : avec shape\n",
    "# methode 2 : avec len\n",
    "print(' methode 1: nombre d\\'observations du dataset {} \\n'.format(df.shape[0]))\n",
    "print(' methode 2: nombre d\\'observations du dataset {} \\n'.format(len(df)))\n"
   ]
  },
  {
   "cell_type": "code",
   "execution_count": 6,
   "metadata": {},
   "outputs": [
    {
     "name": "stdout",
     "output_type": "stream",
     "text": [
      "proportion des valeurs manquantes dans chacune des columnes en %: \n",
      "\n",
      "Entreprise      0.177416\n",
      "Metier          0.198288\n",
      "Technologies    0.000000\n",
      "Diplome         0.000000\n",
      "Experience      0.981006\n",
      "Ville           0.000000\n",
      "dtype: float64\n"
     ]
    }
   ],
   "source": [
    "## Apercu des valeurs manquantes\n",
    "## Calculons la proportion de valeurs manquantes dans chacune des columnes\n",
    "print('proportion des valeurs manquantes dans chacune des columnes en %: \\n')\n",
    "print(df.isnull().mean()*100)"
   ]
  },
  {
   "cell_type": "markdown",
   "metadata": {},
   "source": [
    "<br> Concernant les valeurs manquantes, je constate que les variables categorielles <b> Entreprise</b>, <b>Metier</b> en contiennent approximativement et respectivement <b>0.17%</b> et <b>0.18%</b> tandis que la variable numerique <b>Experience</b> en contient moins de <b>1%</b>.\n",
    "<br> Ces donnees manquantes sont assez rares (moins de 1%) en general, le dataset est donc exploitable et on peut remplacer ces valeurs manquantes par diverses méthodes (moyenne, medianne, mode (pour les variables categorielles)"
   ]
  },
  {
   "cell_type": "markdown",
   "metadata": {},
   "source": [
    "### 3) Réaliser l'imputation des valeurs manquantes pour la variable \"Experience\" avec : \n",
    "- la valeur médiane pour les data scientists\n",
    "- la valeur moyenne pour les data engineers"
   ]
  },
  {
   "cell_type": "code",
   "execution_count": 7,
   "metadata": {
    "collapsed": true
   },
   "outputs": [],
   "source": [
    "def making_imputation(dataframe, column, value, method):\n",
    "    '''\n",
    "    INPUT\n",
    "    -dataframe: dataframe where we did imputation\n",
    "    -column: columnn where we realize imputation\n",
    "    - value: value in column to replace\n",
    "    - method : method of imputation\n",
    "    OUTPUT\n",
    "    - return new dataframe with replaced values\n",
    "    \n",
    "    '''\n",
    "    dataset = dataframe.copy()\n",
    "    assert value in dataframe[column].value_counts(), 'value not in column'\n",
    "    index_column = list(dataset[dataset[column].isin([value])].\\\n",
    "                        isnull().index.values)\n",
    "    if method=='mean':\n",
    "        dataset.loc[index_column, 'Experience'] = df.loc[index_column,'Experience'].\\\n",
    "                                            transform(lambda col:col.fillna(col.mean()))\n",
    "    if method=='median':\n",
    "        dataset.loc[index_column, 'Experience'] = df.loc[index_column,'Experience'].\\\n",
    "                                            transform(lambda col:col.fillna(col.median()))\n",
    "    if method=='mode':\n",
    "        assert np.issubdtype(dataset.column, np.number), 'variable non categorielle'\n",
    "        dataset.loc[index_column, 'Experience'] = df.loc[index_column,'Experience'].\\\n",
    "                                            transform(lambda col:col.fillna(col.mode()))\n",
    "    return dataset\n",
    "\n",
    "## Remplacer les valeurs manquantes pour les data scientists par la valeur mediane\n",
    "df = making_imputation(df, 'Metier', 'Data scientist', 'median')\n",
    "## Remplacer les valeurs manquantes pour les data engineers par la moyenne\n",
    "df = making_imputation(df, 'Metier', 'Data engineer', 'mean')"
   ]
  },
  {
   "cell_type": "markdown",
   "metadata": {},
   "source": [
    "La méthode que j'ai employee ici, consiste d'abord a detecter <b> les indices </b> du dataset correspondant aux differents emplois qu'on recherche ici, à savoir <b> data scientist </b> et <b> data engineers </b>.\n",
    "<br> Ensuite nous allons proceder à la modification des <b> NaN </b> presents à ces ligne par les valeurs demandées.\n",
    "<br> <b> Il existe surement des méthodes plus optimisées mais celle la me parait pas, j'aurai le temps de reflechir à d'autres méthodes et calculer la plus rapide </b>"
   ]
  },
  {
   "cell_type": "markdown",
   "metadata": {},
   "source": [
    "### 4) Combien d'années d'expériences ont, en moyenne, chacun des profils : le data scientist, le lead data scientist et le data engineer en moyenne?"
   ]
  },
  {
   "cell_type": "code",
   "execution_count": 8,
   "metadata": {},
   "outputs": [
    {
     "name": "stdout",
     "output_type": "stream",
     "text": [
      "Moyenne des experiences des differents metiers \n",
      " Metier\n",
      "Data architecte        3.000476\n",
      "Data engineer          2.984959\n",
      "Data scientist         2.241268\n",
      "Lead data scientist    3.965261\n",
      "Name: Experience, dtype: float64\n"
     ]
    }
   ],
   "source": [
    "# Calcul des annees d'experiences de chacun des profils\n",
    "print('Moyenne des experiences des differents metiers \\n {}'.\\\n",
    "      format(df.groupby('Metier')['Experience'].mean()))\n"
   ]
  },
  {
   "cell_type": "markdown",
   "metadata": {},
   "source": [
    "<b> Le data scientist </b> a en moyenne <b>3.0 annees </b> d'experiences. <br>\n",
    "<b> Le lead data scientist </b> a en moyenne <b>3.96 annees </b> d'experiences. <br>\n",
    "<b> Le data engineer </b> a en moyenne <b>2.98 annees </b> d'experiences."
   ]
  },
  {
   "cell_type": "markdown",
   "metadata": {},
   "source": [
    "### 5) Faire la représentation graphique de votre choix afin de comparer le nombre moyen d'années d'expériences pour chaque métier"
   ]
  },
  {
   "cell_type": "code",
   "execution_count": 9,
   "metadata": {
    "scrolled": true
   },
   "outputs": [
    {
     "data": {
      "text/plain": [
       "Text(0.5,1,\"Annee d'experience de divers acteurs de la data\")"
      ]
     },
     "execution_count": 9,
     "metadata": {},
     "output_type": "execute_result"
    },
    {
     "data": {
      "image/png": "[encoded data removed]",
      "text/plain": [
       "<matplotlib.figure.Figure at 0x7f38900ad390>"
      ]
     },
     "metadata": {},
     "output_type": "display_data"
    }
   ],
   "source": [
    "df.groupby('Metier')['Experience'].mean().plot(kind='bar')\n",
    "plt.title('Annee d\\'experience de divers acteurs de la data')"
   ]
  },
  {
   "cell_type": "markdown",
   "metadata": {},
   "source": [
    "### 6) Transformer la variable continue 'Experience' en une nouvelle variable catégorielle 'Exp_label' à 4 modalités: débutant, confirmé, avancé et expert\n",
    "- Veuillez expliquer votre choix du règle de transformation.  "
   ]
  },
  {
   "cell_type": "markdown",
   "metadata": {},
   "source": [
    "Verifions s'il reste encore des <b>NaN</b> dans la variable <b>Experience</b>"
   ]
  },
  {
   "cell_type": "code",
   "execution_count": 10,
   "metadata": {},
   "outputs": [
    {
     "data": {
      "text/plain": [
       "Entreprise      0.177416\n",
       "Metier          0.198288\n",
       "Technologies    0.000000\n",
       "Diplome         0.000000\n",
       "Experience      0.438322\n",
       "Ville           0.000000\n",
       "dtype: float64"
      ]
     },
     "execution_count": 10,
     "metadata": {},
     "output_type": "execute_result"
    }
   ],
   "source": [
    "#Verifions s'il reste encore des NaN dans experience\n",
    "df.isnull().mean()*100"
   ]
  },
  {
   "cell_type": "markdown",
   "metadata": {},
   "source": [
    "Il reste encore 0.43% de NaN dans experience, certainement du aux valeurs dans Lead data scientist et lead architect qu'on a pas modifié.\n",
    "<br> Afin de transformer la variable categorielle, nous allons aussi proceder à l'imputation de ces NaN avec\n",
    "la mediane, plus robuste aux valeurs abberantes"
   ]
  },
  {
   "cell_type": "code",
   "execution_count": 11,
   "metadata": {
    "collapsed": true
   },
   "outputs": [],
   "source": [
    "## Remplacer les valeurs manquantes pour les data architectes par la valeur mediane\n",
    "df = making_imputation(df, 'Metier', 'Lead data scientist', 'median')\n",
    "## Remplacer les valeurs manquantes pour les lead data scientist par la moyenne\n",
    "df = making_imputation(df, 'Metier', 'Data architecte', 'median')"
   ]
  },
  {
   "cell_type": "markdown",
   "metadata": {},
   "source": [
    "<b> Explication de la methode de transformation </b>"
   ]
  },
  {
   "cell_type": "markdown",
   "metadata": {},
   "source": [
    "La categorisation d'une variabe continue s'accomapagne toujours d'une perte d'informations mais elle peut accelerer et ameliorer la classification.\n",
    "<br> J'envisageais deux methodes, en utilisant les fonctions <b>cut</b> et <b>qcut</b>.\n",
    "<br> La fonction qcut est base sur les quantiles et subdivise la variable continue en clusters irregulierement espacé mais contenant a peu près le meme nombre d'individu, ce qui n'est pas très réaliste.\n",
    "<br> La méthode cut quant à elle créer des clusters successifs mais ne contenant pas forcement le meme nombre d'individus. Cette méthode nous parait plus réaliste.\n",
    "<br> J'aurai pu partir sur une consideration métier basé sur mes connaissances à priori mais je prefère cette méthode."
   ]
  },
  {
   "cell_type": "code",
   "execution_count": 18,
   "metadata": {},
   "outputs": [],
   "source": [
    "### Realisons ala categorisation avec la methode cut\n",
    "df['Exp_label'] = pd.cut(df.Experience, bins=4,\\\n",
    "                         labels=[\"debutant\", \"confirme\", \"avance\", \"expert\"])"
   ]
  },
  {
   "cell_type": "code",
   "execution_count": 19,
   "metadata": {},
   "outputs": [
    {
     "data": {
      "text/html": [
       "<div>\n",
       "<style>\n",
       "    .dataframe thead tr:only-child th {\n",
       "        text-align: right;\n",
       "    }\n",
       "\n",
       "    .dataframe thead th {\n",
       "        text-align: left;\n",
       "    }\n",
       "\n",
       "    .dataframe tbody tr th {\n",
       "        vertical-align: top;\n",
       "    }\n",
       "</style>\n",
       "<table border=\"1\" class=\"dataframe\">\n",
       "  <thead>\n",
       "    <tr style=\"text-align: right;\">\n",
       "      <th></th>\n",
       "      <th>Entreprise</th>\n",
       "      <th>Metier</th>\n",
       "      <th>Technologies</th>\n",
       "      <th>Diplome</th>\n",
       "      <th>Experience</th>\n",
       "      <th>Ville</th>\n",
       "      <th>Exp_label</th>\n",
       "    </tr>\n",
       "  </thead>\n",
       "  <tbody>\n",
       "    <tr>\n",
       "      <th>0</th>\n",
       "      <td>Sanofi</td>\n",
       "      <td>Data scientist</td>\n",
       "      <td>Matlab/Python/Pyspark/Scikit-learn/Tensorflow</td>\n",
       "      <td>Master</td>\n",
       "      <td>1.0</td>\n",
       "      <td>Paris</td>\n",
       "      <td>debutant</td>\n",
       "    </tr>\n",
       "    <tr>\n",
       "      <th>1</th>\n",
       "      <td>Massachusetts General Hospital(MGH)</td>\n",
       "      <td>Data architecte</td>\n",
       "      <td>Python/Java/Scala/MongoDB</td>\n",
       "      <td>Master</td>\n",
       "      <td>3.0</td>\n",
       "      <td>Marseille</td>\n",
       "      <td>debutant</td>\n",
       "    </tr>\n",
       "    <tr>\n",
       "      <th>2</th>\n",
       "      <td>Delve</td>\n",
       "      <td>Lead data scientist</td>\n",
       "      <td>SPSS/SQL/Teradata/R/Python/Tensorflow/scikit-l...</td>\n",
       "      <td>Master</td>\n",
       "      <td>3.0</td>\n",
       "      <td>Nantes</td>\n",
       "      <td>debutant</td>\n",
       "    </tr>\n",
       "    <tr>\n",
       "      <th>3</th>\n",
       "      <td>Ann &amp; Robert H. Lurie Children’s Hospital of C...</td>\n",
       "      <td>Data scientist</td>\n",
       "      <td>C/C++/Java/Python</td>\n",
       "      <td>Master</td>\n",
       "      <td>1.5</td>\n",
       "      <td>Marseille</td>\n",
       "      <td>debutant</td>\n",
       "    </tr>\n",
       "    <tr>\n",
       "      <th>4</th>\n",
       "      <td>Arm</td>\n",
       "      <td>Data scientist</td>\n",
       "      <td>Matlab/Python/C++/numpy/Tensorflow/scikit-learn</td>\n",
       "      <td>Phd</td>\n",
       "      <td>2.0</td>\n",
       "      <td>Bordeaux</td>\n",
       "      <td>debutant</td>\n",
       "    </tr>\n",
       "    <tr>\n",
       "      <th>5</th>\n",
       "      <td>S&amp;P Global Ratings</td>\n",
       "      <td>Lead data scientist</td>\n",
       "      <td>VBA/Python/Excel/R</td>\n",
       "      <td>Master</td>\n",
       "      <td>6.0</td>\n",
       "      <td>Lille</td>\n",
       "      <td>confirme</td>\n",
       "    </tr>\n",
       "    <tr>\n",
       "      <th>6</th>\n",
       "      <td>NVIDIA</td>\n",
       "      <td>Data scientist</td>\n",
       "      <td>Excel/VBA/R/Python/PySpark</td>\n",
       "      <td>Bachelor</td>\n",
       "      <td>0.0</td>\n",
       "      <td>Lille</td>\n",
       "      <td>debutant</td>\n",
       "    </tr>\n",
       "    <tr>\n",
       "      <th>7</th>\n",
       "      <td>Cedars-Sinai Medical Center</td>\n",
       "      <td>Data scientist</td>\n",
       "      <td>Java/C/C++/R/Python</td>\n",
       "      <td>Bachelor</td>\n",
       "      <td>4.0</td>\n",
       "      <td>Toulouse</td>\n",
       "      <td>debutant</td>\n",
       "    </tr>\n",
       "    <tr>\n",
       "      <th>8</th>\n",
       "      <td>Fibroblast</td>\n",
       "      <td>Data architecte</td>\n",
       "      <td>Java/Linux/Docker</td>\n",
       "      <td>Bachelor</td>\n",
       "      <td>8.0</td>\n",
       "      <td>Paris</td>\n",
       "      <td>confirme</td>\n",
       "    </tr>\n",
       "    <tr>\n",
       "      <th>9</th>\n",
       "      <td>General Motors</td>\n",
       "      <td>Data engineer</td>\n",
       "      <td>Python/Java/Linux/GNU</td>\n",
       "      <td>Master</td>\n",
       "      <td>5.0</td>\n",
       "      <td>Toulouse</td>\n",
       "      <td>debutant</td>\n",
       "    </tr>\n",
       "    <tr>\n",
       "      <th>10</th>\n",
       "      <td>KPMG</td>\n",
       "      <td>Data engineer</td>\n",
       "      <td>Hadoop/Hive/SQL/MariaDB</td>\n",
       "      <td>Master</td>\n",
       "      <td>0.5</td>\n",
       "      <td>Bordeaux</td>\n",
       "      <td>debutant</td>\n",
       "    </tr>\n",
       "    <tr>\n",
       "      <th>11</th>\n",
       "      <td>R&amp;D Partners</td>\n",
       "      <td>Lead data scientist</td>\n",
       "      <td>Python/R/machine learning/Excel/VBA/C++</td>\n",
       "      <td>Master</td>\n",
       "      <td>3.0</td>\n",
       "      <td>Rouen</td>\n",
       "      <td>debutant</td>\n",
       "    </tr>\n",
       "    <tr>\n",
       "      <th>12</th>\n",
       "      <td>ERPi</td>\n",
       "      <td>Data architecte</td>\n",
       "      <td>Python/Spark/Hive/Hadoop</td>\n",
       "      <td>Phd</td>\n",
       "      <td>3.0</td>\n",
       "      <td>Bordeaux</td>\n",
       "      <td>debutant</td>\n",
       "    </tr>\n",
       "    <tr>\n",
       "      <th>13</th>\n",
       "      <td>Ball Aerospace</td>\n",
       "      <td>Data architecte</td>\n",
       "      <td>Python/AWS/Docker</td>\n",
       "      <td>Master</td>\n",
       "      <td>0.0</td>\n",
       "      <td>Lyon</td>\n",
       "      <td>debutant</td>\n",
       "    </tr>\n",
       "    <tr>\n",
       "      <th>14</th>\n",
       "      <td>Massachusetts General Hospital(MGH)</td>\n",
       "      <td>Data scientist</td>\n",
       "      <td>Python/Tensorflow/scikit-learn/Deep learning/R</td>\n",
       "      <td>Phd</td>\n",
       "      <td>2.0</td>\n",
       "      <td>Paris</td>\n",
       "      <td>debutant</td>\n",
       "    </tr>\n",
       "    <tr>\n",
       "      <th>15</th>\n",
       "      <td>Benchling</td>\n",
       "      <td>Data engineer</td>\n",
       "      <td>Python/Pyspark/Spark</td>\n",
       "      <td>Master</td>\n",
       "      <td>3.0</td>\n",
       "      <td>Lyon</td>\n",
       "      <td>debutant</td>\n",
       "    </tr>\n",
       "    <tr>\n",
       "      <th>16</th>\n",
       "      <td>The Boston Consulting Group</td>\n",
       "      <td>Data architecte</td>\n",
       "      <td>C/C++/Java/Python</td>\n",
       "      <td>Master</td>\n",
       "      <td>0.5</td>\n",
       "      <td>Lille</td>\n",
       "      <td>debutant</td>\n",
       "    </tr>\n",
       "    <tr>\n",
       "      <th>17</th>\n",
       "      <td>Feeding America</td>\n",
       "      <td>Data scientist</td>\n",
       "      <td>Python/Tensorflow/scikit-learn/Deep learning/R</td>\n",
       "      <td>Phd</td>\n",
       "      <td>3.0</td>\n",
       "      <td>Toulouse</td>\n",
       "      <td>debutant</td>\n",
       "    </tr>\n",
       "    <tr>\n",
       "      <th>18</th>\n",
       "      <td>Natera</td>\n",
       "      <td>Data engineer</td>\n",
       "      <td>Python/Pyspark/Spark</td>\n",
       "      <td>Master</td>\n",
       "      <td>3.0</td>\n",
       "      <td>Lille</td>\n",
       "      <td>debutant</td>\n",
       "    </tr>\n",
       "    <tr>\n",
       "      <th>19</th>\n",
       "      <td>Ball Aerospace</td>\n",
       "      <td>Data engineer</td>\n",
       "      <td>Docker/PostgreSQL/Elasticsearch/Kibana/MongoDB</td>\n",
       "      <td>No diploma</td>\n",
       "      <td>8.0</td>\n",
       "      <td>Lyon</td>\n",
       "      <td>confirme</td>\n",
       "    </tr>\n",
       "    <tr>\n",
       "      <th>20</th>\n",
       "      <td>TrueMotion</td>\n",
       "      <td>Lead data scientist</td>\n",
       "      <td>R/machine learning/Excel/VBA</td>\n",
       "      <td>Master</td>\n",
       "      <td>3.5</td>\n",
       "      <td>Nantes</td>\n",
       "      <td>debutant</td>\n",
       "    </tr>\n",
       "    <tr>\n",
       "      <th>21</th>\n",
       "      <td>McKinsey &amp; Company</td>\n",
       "      <td>Data engineer</td>\n",
       "      <td>Elasticsearch/Kibana/MongoDB</td>\n",
       "      <td>Master</td>\n",
       "      <td>1.0</td>\n",
       "      <td>Lille</td>\n",
       "      <td>debutant</td>\n",
       "    </tr>\n",
       "    <tr>\n",
       "      <th>22</th>\n",
       "      <td>fractalanalytics</td>\n",
       "      <td>Data architecte</td>\n",
       "      <td>Python/Spark/Hive/Hadoop</td>\n",
       "      <td>Phd</td>\n",
       "      <td>5.0</td>\n",
       "      <td>Lyon</td>\n",
       "      <td>debutant</td>\n",
       "    </tr>\n",
       "    <tr>\n",
       "      <th>23</th>\n",
       "      <td>Symantec</td>\n",
       "      <td>Lead data scientist</td>\n",
       "      <td>Python/Tensorflow/scikit-learn/Deep learning/R</td>\n",
       "      <td>Phd</td>\n",
       "      <td>4.0</td>\n",
       "      <td>Marseille</td>\n",
       "      <td>debutant</td>\n",
       "    </tr>\n",
       "    <tr>\n",
       "      <th>24</th>\n",
       "      <td>Novi Labs</td>\n",
       "      <td>Data engineer</td>\n",
       "      <td>Java/Hadoop/HDFS/Yarn</td>\n",
       "      <td>Master</td>\n",
       "      <td>2.0</td>\n",
       "      <td>Marseille</td>\n",
       "      <td>debutant</td>\n",
       "    </tr>\n",
       "    <tr>\n",
       "      <th>25</th>\n",
       "      <td>Ginkgo Bioworks</td>\n",
       "      <td>Data scientist</td>\n",
       "      <td>Python/Pyspark/machine learning/Microsoft Azure</td>\n",
       "      <td>Phd</td>\n",
       "      <td>9.0</td>\n",
       "      <td>Lyon</td>\n",
       "      <td>confirme</td>\n",
       "    </tr>\n",
       "    <tr>\n",
       "      <th>26</th>\n",
       "      <td>Ball Aerospace</td>\n",
       "      <td>Data engineer</td>\n",
       "      <td>Python/Pyspark/Spark</td>\n",
       "      <td>No diploma</td>\n",
       "      <td>8.0</td>\n",
       "      <td>Lille</td>\n",
       "      <td>confirme</td>\n",
       "    </tr>\n",
       "    <tr>\n",
       "      <th>27</th>\n",
       "      <td>Intercontinental Exchange</td>\n",
       "      <td>Data architecte</td>\n",
       "      <td>Elasticsearch/Kibana/Redshift</td>\n",
       "      <td>Phd</td>\n",
       "      <td>4.0</td>\n",
       "      <td>Marseille</td>\n",
       "      <td>debutant</td>\n",
       "    </tr>\n",
       "    <tr>\n",
       "      <th>28</th>\n",
       "      <td>Voya Financial</td>\n",
       "      <td>Lead data scientist</td>\n",
       "      <td>SAS/Teradata/SQL/R/Python/Machine learning/Ang...</td>\n",
       "      <td>Master</td>\n",
       "      <td>3.5</td>\n",
       "      <td>Marseille</td>\n",
       "      <td>debutant</td>\n",
       "    </tr>\n",
       "    <tr>\n",
       "      <th>29</th>\n",
       "      <td>Neuberger Berman</td>\n",
       "      <td>Data scientist</td>\n",
       "      <td>Excel/Python/Matlab/R/machine learning/anglais</td>\n",
       "      <td>Master</td>\n",
       "      <td>7.0</td>\n",
       "      <td>Lyon</td>\n",
       "      <td>confirme</td>\n",
       "    </tr>\n",
       "    <tr>\n",
       "      <th>...</th>\n",
       "      <td>...</td>\n",
       "      <td>...</td>\n",
       "      <td>...</td>\n",
       "      <td>...</td>\n",
       "      <td>...</td>\n",
       "      <td>...</td>\n",
       "      <td>...</td>\n",
       "    </tr>\n",
       "    <tr>\n",
       "      <th>9552</th>\n",
       "      <td>Civis Analytics</td>\n",
       "      <td>Data engineer</td>\n",
       "      <td>Spark/Python/Scala</td>\n",
       "      <td>Phd</td>\n",
       "      <td>2.5</td>\n",
       "      <td>Lille</td>\n",
       "      <td>debutant</td>\n",
       "    </tr>\n",
       "    <tr>\n",
       "      <th>9553</th>\n",
       "      <td>Amazon.com</td>\n",
       "      <td>Data engineer</td>\n",
       "      <td>Python/Java/Linux/GNU</td>\n",
       "      <td>Master</td>\n",
       "      <td>8.0</td>\n",
       "      <td>Nantes</td>\n",
       "      <td>confirme</td>\n",
       "    </tr>\n",
       "    <tr>\n",
       "      <th>9554</th>\n",
       "      <td>AKCEA Therapeutics</td>\n",
       "      <td>Data scientist</td>\n",
       "      <td>R/Python/SQL/NoSQL/MongoDB</td>\n",
       "      <td>Phd</td>\n",
       "      <td>4.0</td>\n",
       "      <td>Lyon</td>\n",
       "      <td>debutant</td>\n",
       "    </tr>\n",
       "    <tr>\n",
       "      <th>9555</th>\n",
       "      <td>Amazon.com</td>\n",
       "      <td>Data scientist</td>\n",
       "      <td>Python/R/Spark/Hadoop/SQL</td>\n",
       "      <td>Master</td>\n",
       "      <td>2.5</td>\n",
       "      <td>Montpellier</td>\n",
       "      <td>debutant</td>\n",
       "    </tr>\n",
       "    <tr>\n",
       "      <th>9556</th>\n",
       "      <td>Galvanize</td>\n",
       "      <td>Data scientist</td>\n",
       "      <td>Python/Pyspark/machine learning/Microsoft Azure</td>\n",
       "      <td>Master</td>\n",
       "      <td>2.0</td>\n",
       "      <td>Marseille</td>\n",
       "      <td>debutant</td>\n",
       "    </tr>\n",
       "    <tr>\n",
       "      <th>9557</th>\n",
       "      <td>Cugene Inc</td>\n",
       "      <td>Lead data scientist</td>\n",
       "      <td>VBA/Python/Excel/R</td>\n",
       "      <td>Bachelor</td>\n",
       "      <td>7.0</td>\n",
       "      <td>Rouen</td>\n",
       "      <td>confirme</td>\n",
       "    </tr>\n",
       "    <tr>\n",
       "      <th>9558</th>\n",
       "      <td>Draper</td>\n",
       "      <td>Data scientist</td>\n",
       "      <td>Python/Pyspark/machine learning/Microsoft Azure</td>\n",
       "      <td>Bachelor</td>\n",
       "      <td>1.0</td>\n",
       "      <td>Bordeaux</td>\n",
       "      <td>debutant</td>\n",
       "    </tr>\n",
       "    <tr>\n",
       "      <th>9559</th>\n",
       "      <td>BlackLocus</td>\n",
       "      <td>Lead data scientist</td>\n",
       "      <td>Python/R/machine learning/Excel/VBA/C++</td>\n",
       "      <td>Master</td>\n",
       "      <td>17.0</td>\n",
       "      <td>Nice</td>\n",
       "      <td>expert</td>\n",
       "    </tr>\n",
       "    <tr>\n",
       "      <th>9560</th>\n",
       "      <td>Foursquare</td>\n",
       "      <td>Data scientist</td>\n",
       "      <td>SAS/Teradata/SQL/R/Python/Machine learning/Ang...</td>\n",
       "      <td>Phd</td>\n",
       "      <td>1.5</td>\n",
       "      <td>Lille</td>\n",
       "      <td>debutant</td>\n",
       "    </tr>\n",
       "    <tr>\n",
       "      <th>9561</th>\n",
       "      <td>Sovrn Holdings</td>\n",
       "      <td>Data architecte</td>\n",
       "      <td>Hadoop(HDFS)/Elasticsearch</td>\n",
       "      <td>Bachelor</td>\n",
       "      <td>2.0</td>\n",
       "      <td>Lille</td>\n",
       "      <td>debutant</td>\n",
       "    </tr>\n",
       "    <tr>\n",
       "      <th>9562</th>\n",
       "      <td>Ball Aerospace</td>\n",
       "      <td>Data engineer</td>\n",
       "      <td>Spark/Python/Scala</td>\n",
       "      <td>Master</td>\n",
       "      <td>3.5</td>\n",
       "      <td>Paris</td>\n",
       "      <td>debutant</td>\n",
       "    </tr>\n",
       "    <tr>\n",
       "      <th>9563</th>\n",
       "      <td>Partners HealthCare(PHS)</td>\n",
       "      <td>Data scientist</td>\n",
       "      <td>Python/Tensorflow/R/Big data</td>\n",
       "      <td>Phd</td>\n",
       "      <td>1.5</td>\n",
       "      <td>Paris</td>\n",
       "      <td>debutant</td>\n",
       "    </tr>\n",
       "    <tr>\n",
       "      <th>9564</th>\n",
       "      <td>SPINS, LLC</td>\n",
       "      <td>Data engineer</td>\n",
       "      <td>Python/Pyspark/Spark</td>\n",
       "      <td>Master</td>\n",
       "      <td>0.0</td>\n",
       "      <td>Lille</td>\n",
       "      <td>debutant</td>\n",
       "    </tr>\n",
       "    <tr>\n",
       "      <th>9565</th>\n",
       "      <td>Ball Aerospace</td>\n",
       "      <td>Data engineer</td>\n",
       "      <td>Spark/Python/Scala</td>\n",
       "      <td>Master</td>\n",
       "      <td>4.0</td>\n",
       "      <td>Lille</td>\n",
       "      <td>debutant</td>\n",
       "    </tr>\n",
       "    <tr>\n",
       "      <th>9566</th>\n",
       "      <td>Ball Aerospace</td>\n",
       "      <td>Data scientist</td>\n",
       "      <td>C++/R/Python/Matlab/Matplotlib</td>\n",
       "      <td>Master</td>\n",
       "      <td>1.5</td>\n",
       "      <td>Montpellier</td>\n",
       "      <td>debutant</td>\n",
       "    </tr>\n",
       "    <tr>\n",
       "      <th>9567</th>\n",
       "      <td>Marsh</td>\n",
       "      <td>Data scientist</td>\n",
       "      <td>Matlab/Python/C++/numpy/Tensorflow/scikit-learn</td>\n",
       "      <td>Phd</td>\n",
       "      <td>0.0</td>\n",
       "      <td>Bordeaux</td>\n",
       "      <td>debutant</td>\n",
       "    </tr>\n",
       "    <tr>\n",
       "      <th>9568</th>\n",
       "      <td>The Boston Consulting Group</td>\n",
       "      <td>Data scientist</td>\n",
       "      <td>SAS/Teradata/SQL/R/Python/Machine learning/Ang...</td>\n",
       "      <td>Master</td>\n",
       "      <td>7.0</td>\n",
       "      <td>Paris</td>\n",
       "      <td>confirme</td>\n",
       "    </tr>\n",
       "    <tr>\n",
       "      <th>9569</th>\n",
       "      <td>Summit Technologies, Inc.</td>\n",
       "      <td>Data engineer</td>\n",
       "      <td>Python/Pyspark/Spark</td>\n",
       "      <td>Master</td>\n",
       "      <td>0.5</td>\n",
       "      <td>Toulouse</td>\n",
       "      <td>debutant</td>\n",
       "    </tr>\n",
       "    <tr>\n",
       "      <th>9570</th>\n",
       "      <td>The Coca-Cola Company</td>\n",
       "      <td>Data engineer</td>\n",
       "      <td>Spark/Python/Scala</td>\n",
       "      <td>Phd</td>\n",
       "      <td>2.0</td>\n",
       "      <td>Marseille</td>\n",
       "      <td>debutant</td>\n",
       "    </tr>\n",
       "    <tr>\n",
       "      <th>9571</th>\n",
       "      <td>Pfizer</td>\n",
       "      <td>Data scientist</td>\n",
       "      <td>Matlab/C/C++/Python/Scikit-learn</td>\n",
       "      <td>Bachelor</td>\n",
       "      <td>2.0</td>\n",
       "      <td>Lyon</td>\n",
       "      <td>debutant</td>\n",
       "    </tr>\n",
       "    <tr>\n",
       "      <th>9572</th>\n",
       "      <td>State Street</td>\n",
       "      <td>Data scientist</td>\n",
       "      <td>Excel/VBA/R/Python/PySpark</td>\n",
       "      <td>Master</td>\n",
       "      <td>2.0</td>\n",
       "      <td>Lyon</td>\n",
       "      <td>debutant</td>\n",
       "    </tr>\n",
       "    <tr>\n",
       "      <th>9573</th>\n",
       "      <td>Jacobs</td>\n",
       "      <td>Data scientist</td>\n",
       "      <td>Matlab/C/C++/Python/Scikit-learn</td>\n",
       "      <td>Phd</td>\n",
       "      <td>2.5</td>\n",
       "      <td>Bordeaux</td>\n",
       "      <td>debutant</td>\n",
       "    </tr>\n",
       "    <tr>\n",
       "      <th>9574</th>\n",
       "      <td>Georgia Tech Research Institute</td>\n",
       "      <td>Data architecte</td>\n",
       "      <td>MongoDB/SQL/Docker</td>\n",
       "      <td>Master</td>\n",
       "      <td>3.5</td>\n",
       "      <td>Toulouse</td>\n",
       "      <td>debutant</td>\n",
       "    </tr>\n",
       "    <tr>\n",
       "      <th>9575</th>\n",
       "      <td>Hatch</td>\n",
       "      <td>Data engineer</td>\n",
       "      <td>Python/Pyspark/Spark</td>\n",
       "      <td>No diploma</td>\n",
       "      <td>4.0</td>\n",
       "      <td>Toulouse</td>\n",
       "      <td>debutant</td>\n",
       "    </tr>\n",
       "    <tr>\n",
       "      <th>9576</th>\n",
       "      <td>Ra Pharmaceutical</td>\n",
       "      <td>Data scientist</td>\n",
       "      <td>R/machine learning/Excel/VBA</td>\n",
       "      <td>Phd</td>\n",
       "      <td>2.5</td>\n",
       "      <td>Toulouse</td>\n",
       "      <td>debutant</td>\n",
       "    </tr>\n",
       "    <tr>\n",
       "      <th>9577</th>\n",
       "      <td>Massachusetts General Hospital(MGH)</td>\n",
       "      <td>Data scientist</td>\n",
       "      <td>C++/R/Python/Matlab/Matplotlib</td>\n",
       "      <td>Master</td>\n",
       "      <td>1.5</td>\n",
       "      <td>Lyon</td>\n",
       "      <td>debutant</td>\n",
       "    </tr>\n",
       "    <tr>\n",
       "      <th>9578</th>\n",
       "      <td>Charles River Analytics</td>\n",
       "      <td>Data scientist</td>\n",
       "      <td>Excel/Python/Matlab/R/machine learning/anglais</td>\n",
       "      <td>Master</td>\n",
       "      <td>11.0</td>\n",
       "      <td>Toulouse</td>\n",
       "      <td>avance</td>\n",
       "    </tr>\n",
       "    <tr>\n",
       "      <th>9579</th>\n",
       "      <td>Ball Aerospace</td>\n",
       "      <td>Data scientist</td>\n",
       "      <td>R/machine learning/Excel/VBA</td>\n",
       "      <td>Master</td>\n",
       "      <td>1.0</td>\n",
       "      <td>Paris</td>\n",
       "      <td>debutant</td>\n",
       "    </tr>\n",
       "    <tr>\n",
       "      <th>9580</th>\n",
       "      <td>Takeda Pharmaceutical</td>\n",
       "      <td>Data scientist</td>\n",
       "      <td>Python/Pyspark/machine learning/Microsoft Azure</td>\n",
       "      <td>Master</td>\n",
       "      <td>17.0</td>\n",
       "      <td>Rennes</td>\n",
       "      <td>expert</td>\n",
       "    </tr>\n",
       "    <tr>\n",
       "      <th>9581</th>\n",
       "      <td>Vertex</td>\n",
       "      <td>Data scientist</td>\n",
       "      <td>VBA/Python/Excel/R</td>\n",
       "      <td>Phd</td>\n",
       "      <td>0.0</td>\n",
       "      <td>Paris</td>\n",
       "      <td>debutant</td>\n",
       "    </tr>\n",
       "  </tbody>\n",
       "</table>\n",
       "<p>9582 rows × 7 columns</p>\n",
       "</div>"
      ],
      "text/plain": [
       "                                             Entreprise               Metier  \\\n",
       "0                                                Sanofi       Data scientist   \n",
       "1                   Massachusetts General Hospital(MGH)      Data architecte   \n",
       "2                                                 Delve  Lead data scientist   \n",
       "3     Ann & Robert H. Lurie Children’s Hospital of C...       Data scientist   \n",
       "4                                                   Arm       Data scientist   \n",
       "5                                    S&P Global Ratings  Lead data scientist   \n",
       "6                                                NVIDIA       Data scientist   \n",
       "7                           Cedars-Sinai Medical Center       Data scientist   \n",
       "8                                            Fibroblast      Data architecte   \n",
       "9                                        General Motors        Data engineer   \n",
       "10                                                 KPMG        Data engineer   \n",
       "11                                         R&D Partners  Lead data scientist   \n",
       "12                                                 ERPi      Data architecte   \n",
       "13                                       Ball Aerospace      Data architecte   \n",
       "14                  Massachusetts General Hospital(MGH)       Data scientist   \n",
       "15                                            Benchling        Data engineer   \n",
       "16                          The Boston Consulting Group      Data architecte   \n",
       "17                                      Feeding America       Data scientist   \n",
       "18                                               Natera        Data engineer   \n",
       "19                                       Ball Aerospace        Data engineer   \n",
       "20                                           TrueMotion  Lead data scientist   \n",
       "21                                   McKinsey & Company        Data engineer   \n",
       "22                                     fractalanalytics      Data architecte   \n",
       "23                                             Symantec  Lead data scientist   \n",
       "24                                            Novi Labs        Data engineer   \n",
       "25                                      Ginkgo Bioworks       Data scientist   \n",
       "26                                       Ball Aerospace        Data engineer   \n",
       "27                            Intercontinental Exchange      Data architecte   \n",
       "28                                       Voya Financial  Lead data scientist   \n",
       "29                                     Neuberger Berman       Data scientist   \n",
       "...                                                 ...                  ...   \n",
       "9552                                    Civis Analytics        Data engineer   \n",
       "9553                                         Amazon.com        Data engineer   \n",
       "9554                                 AKCEA Therapeutics       Data scientist   \n",
       "9555                                         Amazon.com       Data scientist   \n",
       "9556                                          Galvanize       Data scientist   \n",
       "9557                                         Cugene Inc  Lead data scientist   \n",
       "9558                                             Draper       Data scientist   \n",
       "9559                                         BlackLocus  Lead data scientist   \n",
       "9560                                         Foursquare       Data scientist   \n",
       "9561                                     Sovrn Holdings      Data architecte   \n",
       "9562                                     Ball Aerospace        Data engineer   \n",
       "9563                           Partners HealthCare(PHS)       Data scientist   \n",
       "9564                                         SPINS, LLC        Data engineer   \n",
       "9565                                     Ball Aerospace        Data engineer   \n",
       "9566                                     Ball Aerospace       Data scientist   \n",
       "9567                                              Marsh       Data scientist   \n",
       "9568                        The Boston Consulting Group       Data scientist   \n",
       "9569                          Summit Technologies, Inc.        Data engineer   \n",
       "9570                              The Coca-Cola Company        Data engineer   \n",
       "9571                                             Pfizer       Data scientist   \n",
       "9572                                       State Street       Data scientist   \n",
       "9573                                             Jacobs       Data scientist   \n",
       "9574                    Georgia Tech Research Institute      Data architecte   \n",
       "9575                                              Hatch        Data engineer   \n",
       "9576                                  Ra Pharmaceutical       Data scientist   \n",
       "9577                Massachusetts General Hospital(MGH)       Data scientist   \n",
       "9578                            Charles River Analytics       Data scientist   \n",
       "9579                                     Ball Aerospace       Data scientist   \n",
       "9580                              Takeda Pharmaceutical       Data scientist   \n",
       "9581                                             Vertex       Data scientist   \n",
       "\n",
       "                                           Technologies     Diplome  \\\n",
       "0         Matlab/Python/Pyspark/Scikit-learn/Tensorflow      Master   \n",
       "1                             Python/Java/Scala/MongoDB      Master   \n",
       "2     SPSS/SQL/Teradata/R/Python/Tensorflow/scikit-l...      Master   \n",
       "3                                     C/C++/Java/Python      Master   \n",
       "4       Matlab/Python/C++/numpy/Tensorflow/scikit-learn         Phd   \n",
       "5                                    VBA/Python/Excel/R      Master   \n",
       "6                            Excel/VBA/R/Python/PySpark    Bachelor   \n",
       "7                                   Java/C/C++/R/Python    Bachelor   \n",
       "8                                     Java/Linux/Docker    Bachelor   \n",
       "9                                 Python/Java/Linux/GNU      Master   \n",
       "10                              Hadoop/Hive/SQL/MariaDB      Master   \n",
       "11              Python/R/machine learning/Excel/VBA/C++      Master   \n",
       "12                             Python/Spark/Hive/Hadoop         Phd   \n",
       "13                                    Python/AWS/Docker      Master   \n",
       "14       Python/Tensorflow/scikit-learn/Deep learning/R         Phd   \n",
       "15                                 Python/Pyspark/Spark      Master   \n",
       "16                                    C/C++/Java/Python      Master   \n",
       "17       Python/Tensorflow/scikit-learn/Deep learning/R         Phd   \n",
       "18                                 Python/Pyspark/Spark      Master   \n",
       "19       Docker/PostgreSQL/Elasticsearch/Kibana/MongoDB  No diploma   \n",
       "20                         R/machine learning/Excel/VBA      Master   \n",
       "21                         Elasticsearch/Kibana/MongoDB      Master   \n",
       "22                             Python/Spark/Hive/Hadoop         Phd   \n",
       "23       Python/Tensorflow/scikit-learn/Deep learning/R         Phd   \n",
       "24                                Java/Hadoop/HDFS/Yarn      Master   \n",
       "25      Python/Pyspark/machine learning/Microsoft Azure         Phd   \n",
       "26                                 Python/Pyspark/Spark  No diploma   \n",
       "27                        Elasticsearch/Kibana/Redshift         Phd   \n",
       "28    SAS/Teradata/SQL/R/Python/Machine learning/Ang...      Master   \n",
       "29       Excel/Python/Matlab/R/machine learning/anglais      Master   \n",
       "...                                                 ...         ...   \n",
       "9552                                 Spark/Python/Scala         Phd   \n",
       "9553                              Python/Java/Linux/GNU      Master   \n",
       "9554                         R/Python/SQL/NoSQL/MongoDB         Phd   \n",
       "9555                          Python/R/Spark/Hadoop/SQL      Master   \n",
       "9556    Python/Pyspark/machine learning/Microsoft Azure      Master   \n",
       "9557                                 VBA/Python/Excel/R    Bachelor   \n",
       "9558    Python/Pyspark/machine learning/Microsoft Azure    Bachelor   \n",
       "9559            Python/R/machine learning/Excel/VBA/C++      Master   \n",
       "9560  SAS/Teradata/SQL/R/Python/Machine learning/Ang...         Phd   \n",
       "9561                         Hadoop(HDFS)/Elasticsearch    Bachelor   \n",
       "9562                                 Spark/Python/Scala      Master   \n",
       "9563                       Python/Tensorflow/R/Big data         Phd   \n",
       "9564                               Python/Pyspark/Spark      Master   \n",
       "9565                                 Spark/Python/Scala      Master   \n",
       "9566                     C++/R/Python/Matlab/Matplotlib      Master   \n",
       "9567    Matlab/Python/C++/numpy/Tensorflow/scikit-learn         Phd   \n",
       "9568  SAS/Teradata/SQL/R/Python/Machine learning/Ang...      Master   \n",
       "9569                               Python/Pyspark/Spark      Master   \n",
       "9570                                 Spark/Python/Scala         Phd   \n",
       "9571                   Matlab/C/C++/Python/Scikit-learn    Bachelor   \n",
       "9572                         Excel/VBA/R/Python/PySpark      Master   \n",
       "9573                   Matlab/C/C++/Python/Scikit-learn         Phd   \n",
       "9574                                 MongoDB/SQL/Docker      Master   \n",
       "9575                               Python/Pyspark/Spark  No diploma   \n",
       "9576                       R/machine learning/Excel/VBA         Phd   \n",
       "9577                     C++/R/Python/Matlab/Matplotlib      Master   \n",
       "9578     Excel/Python/Matlab/R/machine learning/anglais      Master   \n",
       "9579                       R/machine learning/Excel/VBA      Master   \n",
       "9580    Python/Pyspark/machine learning/Microsoft Azure      Master   \n",
       "9581                                 VBA/Python/Excel/R         Phd   \n",
       "\n",
       "      Experience        Ville Exp_label  \n",
       "0            1.0        Paris  debutant  \n",
       "1            3.0    Marseille  debutant  \n",
       "2            3.0       Nantes  debutant  \n",
       "3            1.5    Marseille  debutant  \n",
       "4            2.0     Bordeaux  debutant  \n",
       "5            6.0        Lille  confirme  \n",
       "6            0.0        Lille  debutant  \n",
       "7            4.0     Toulouse  debutant  \n",
       "8            8.0        Paris  confirme  \n",
       "9            5.0     Toulouse  debutant  \n",
       "10           0.5     Bordeaux  debutant  \n",
       "11           3.0        Rouen  debutant  \n",
       "12           3.0     Bordeaux  debutant  \n",
       "13           0.0         Lyon  debutant  \n",
       "14           2.0        Paris  debutant  \n",
       "15           3.0         Lyon  debutant  \n",
       "16           0.5        Lille  debutant  \n",
       "17           3.0     Toulouse  debutant  \n",
       "18           3.0        Lille  debutant  \n",
       "19           8.0         Lyon  confirme  \n",
       "20           3.5       Nantes  debutant  \n",
       "21           1.0        Lille  debutant  \n",
       "22           5.0         Lyon  debutant  \n",
       "23           4.0    Marseille  debutant  \n",
       "24           2.0    Marseille  debutant  \n",
       "25           9.0         Lyon  confirme  \n",
       "26           8.0        Lille  confirme  \n",
       "27           4.0    Marseille  debutant  \n",
       "28           3.5    Marseille  debutant  \n",
       "29           7.0         Lyon  confirme  \n",
       "...          ...          ...       ...  \n",
       "9552         2.5        Lille  debutant  \n",
       "9553         8.0       Nantes  confirme  \n",
       "9554         4.0         Lyon  debutant  \n",
       "9555         2.5  Montpellier  debutant  \n",
       "9556         2.0    Marseille  debutant  \n",
       "9557         7.0        Rouen  confirme  \n",
       "9558         1.0     Bordeaux  debutant  \n",
       "9559        17.0         Nice    expert  \n",
       "9560         1.5        Lille  debutant  \n",
       "9561         2.0        Lille  debutant  \n",
       "9562         3.5        Paris  debutant  \n",
       "9563         1.5        Paris  debutant  \n",
       "9564         0.0        Lille  debutant  \n",
       "9565         4.0        Lille  debutant  \n",
       "9566         1.5  Montpellier  debutant  \n",
       "9567         0.0     Bordeaux  debutant  \n",
       "9568         7.0        Paris  confirme  \n",
       "9569         0.5     Toulouse  debutant  \n",
       "9570         2.0    Marseille  debutant  \n",
       "9571         2.0         Lyon  debutant  \n",
       "9572         2.0         Lyon  debutant  \n",
       "9573         2.5     Bordeaux  debutant  \n",
       "9574         3.5     Toulouse  debutant  \n",
       "9575         4.0     Toulouse  debutant  \n",
       "9576         2.5     Toulouse  debutant  \n",
       "9577         1.5         Lyon  debutant  \n",
       "9578        11.0     Toulouse    avance  \n",
       "9579         1.0        Paris  debutant  \n",
       "9580        17.0       Rennes    expert  \n",
       "9581         0.0        Paris  debutant  \n",
       "\n",
       "[9582 rows x 7 columns]"
      ]
     },
     "execution_count": 19,
     "metadata": {},
     "output_type": "execute_result"
    }
   ],
   "source": [
    "df"
   ]
  },
  {
   "cell_type": "markdown",
   "metadata": {},
   "source": [
    "Ayons un apercu des intervalles crees"
   ]
  },
  {
   "cell_type": "code",
   "execution_count": 24,
   "metadata": {},
   "outputs": [
    {
     "data": {
      "text/plain": [
       "(0       (-0.021, 5.25]\n",
       " 1       (-0.021, 5.25]\n",
       " 2       (-0.021, 5.25]\n",
       " 3       (-0.021, 5.25]\n",
       " 4       (-0.021, 5.25]\n",
       " 5         (5.25, 10.5]\n",
       " 6       (-0.021, 5.25]\n",
       " 7       (-0.021, 5.25]\n",
       " 8         (5.25, 10.5]\n",
       " 9       (-0.021, 5.25]\n",
       " 10      (-0.021, 5.25]\n",
       " 11      (-0.021, 5.25]\n",
       " 12      (-0.021, 5.25]\n",
       " 13      (-0.021, 5.25]\n",
       " 14      (-0.021, 5.25]\n",
       " 15      (-0.021, 5.25]\n",
       " 16      (-0.021, 5.25]\n",
       " 17      (-0.021, 5.25]\n",
       " 18      (-0.021, 5.25]\n",
       " 19        (5.25, 10.5]\n",
       " 20      (-0.021, 5.25]\n",
       " 21      (-0.021, 5.25]\n",
       " 22      (-0.021, 5.25]\n",
       " 23      (-0.021, 5.25]\n",
       " 24      (-0.021, 5.25]\n",
       " 25        (5.25, 10.5]\n",
       " 26        (5.25, 10.5]\n",
       " 27      (-0.021, 5.25]\n",
       " 28      (-0.021, 5.25]\n",
       " 29        (5.25, 10.5]\n",
       "              ...      \n",
       " 9552    (-0.021, 5.25]\n",
       " 9553      (5.25, 10.5]\n",
       " 9554    (-0.021, 5.25]\n",
       " 9555    (-0.021, 5.25]\n",
       " 9556    (-0.021, 5.25]\n",
       " 9557      (5.25, 10.5]\n",
       " 9558    (-0.021, 5.25]\n",
       " 9559     (15.75, 21.0]\n",
       " 9560    (-0.021, 5.25]\n",
       " 9561    (-0.021, 5.25]\n",
       " 9562    (-0.021, 5.25]\n",
       " 9563    (-0.021, 5.25]\n",
       " 9564    (-0.021, 5.25]\n",
       " 9565    (-0.021, 5.25]\n",
       " 9566    (-0.021, 5.25]\n",
       " 9567    (-0.021, 5.25]\n",
       " 9568      (5.25, 10.5]\n",
       " 9569    (-0.021, 5.25]\n",
       " 9570    (-0.021, 5.25]\n",
       " 9571    (-0.021, 5.25]\n",
       " 9572    (-0.021, 5.25]\n",
       " 9573    (-0.021, 5.25]\n",
       " 9574    (-0.021, 5.25]\n",
       " 9575    (-0.021, 5.25]\n",
       " 9576    (-0.021, 5.25]\n",
       " 9577    (-0.021, 5.25]\n",
       " 9578     (10.5, 15.75]\n",
       " 9579    (-0.021, 5.25]\n",
       " 9580     (15.75, 21.0]\n",
       " 9581    (-0.021, 5.25]\n",
       " Name: Experience, Length: 9582, dtype: category\n",
       " Categories (4, interval[float64]): [(-0.021, 5.25] < (5.25, 10.5] < (10.5, 15.75] < (15.75, 21.0]],\n",
       " array([-0.021,  5.25 , 10.5  , 15.75 , 21.   ]))"
      ]
     },
     "execution_count": 24,
     "metadata": {},
     "output_type": "execute_result"
    }
   ],
   "source": [
    "pd.cut(df.Experience, 4, retbins=True)\n"
   ]
  },
  {
   "cell_type": "markdown",
   "metadata": {},
   "source": [
    "Les differentes categories crees sont:\n",
    "<br> <b>Debutant</b> [0 5.25], <br> <b>Confirme</b> ]5.25 10.5], <br> <b>Avance</b> ]10.5 15.75] <br> <b>Avance</b> ]15.75 21.0]"
   ]
  },
  {
   "cell_type": "code",
   "execution_count": 29,
   "metadata": {},
   "outputs": [
    {
     "data": {
      "text/plain": [
       "Text(0.5,1,'repartition des categories')"
      ]
     },
     "execution_count": 29,
     "metadata": {},
     "output_type": "execute_result"
    },
    {
     "data": {
      "image/png": "[encoded data removed]",
      "text/plain": [
       "<matplotlib.figure.Figure at 0x7f3852c50a90>"
      ]
     },
     "metadata": {},
     "output_type": "display_data"
    }
   ],
   "source": [
    "(df.Exp_label.value_counts()/df.shape[0]).plot(kind=\"bar\")\n",
    "plt.title('repartition des categories')"
   ]
  },
  {
   "cell_type": "markdown",
   "metadata": {},
   "source": [
    "### 7) Quelles sont les 5 technologies les plus utilisées? Faites un graphique"
   ]
  },
  {
   "cell_type": "markdown",
   "metadata": {},
   "source": [
    "Listons l'ensemble des technologies utilisées par l'ensemble des candidats"
   ]
  },
  {
   "cell_type": "code",
   "execution_count": 39,
   "metadata": {},
   "outputs": [
    {
     "data": {
      "text/html": [
       "<div>\n",
       "<style>\n",
       "    .dataframe thead tr:only-child th {\n",
       "        text-align: right;\n",
       "    }\n",
       "\n",
       "    .dataframe thead th {\n",
       "        text-align: left;\n",
       "    }\n",
       "\n",
       "    .dataframe tbody tr th {\n",
       "        vertical-align: top;\n",
       "    }\n",
       "</style>\n",
       "<table border=\"1\" class=\"dataframe\">\n",
       "  <thead>\n",
       "    <tr style=\"text-align: right;\">\n",
       "      <th></th>\n",
       "      <th>Entreprise</th>\n",
       "      <th>Metier</th>\n",
       "      <th>Technologies</th>\n",
       "      <th>Diplome</th>\n",
       "      <th>Experience</th>\n",
       "      <th>Ville</th>\n",
       "      <th>Exp_label</th>\n",
       "      <th>Exp_label_2</th>\n",
       "    </tr>\n",
       "  </thead>\n",
       "  <tbody>\n",
       "    <tr>\n",
       "      <th>0</th>\n",
       "      <td>Sanofi</td>\n",
       "      <td>Data scientist</td>\n",
       "      <td>Matlab/Python/Pyspark/Scikit-learn/Tensorflow</td>\n",
       "      <td>Master</td>\n",
       "      <td>1.0</td>\n",
       "      <td>Paris</td>\n",
       "      <td>debutant</td>\n",
       "      <td>0</td>\n",
       "    </tr>\n",
       "    <tr>\n",
       "      <th>1</th>\n",
       "      <td>Massachusetts General Hospital(MGH)</td>\n",
       "      <td>Data architecte</td>\n",
       "      <td>Python/Java/Scala/MongoDB</td>\n",
       "      <td>Master</td>\n",
       "      <td>3.0</td>\n",
       "      <td>Marseille</td>\n",
       "      <td>debutant</td>\n",
       "      <td>0</td>\n",
       "    </tr>\n",
       "    <tr>\n",
       "      <th>2</th>\n",
       "      <td>Delve</td>\n",
       "      <td>Lead data scientist</td>\n",
       "      <td>SPSS/SQL/Teradata/R/Python/Tensorflow/scikit-l...</td>\n",
       "      <td>Master</td>\n",
       "      <td>3.0</td>\n",
       "      <td>Nantes</td>\n",
       "      <td>debutant</td>\n",
       "      <td>0</td>\n",
       "    </tr>\n",
       "    <tr>\n",
       "      <th>3</th>\n",
       "      <td>Ann &amp; Robert H. Lurie Children’s Hospital of C...</td>\n",
       "      <td>Data scientist</td>\n",
       "      <td>C/C++/Java/Python</td>\n",
       "      <td>Master</td>\n",
       "      <td>1.5</td>\n",
       "      <td>Marseille</td>\n",
       "      <td>debutant</td>\n",
       "      <td>0</td>\n",
       "    </tr>\n",
       "    <tr>\n",
       "      <th>4</th>\n",
       "      <td>Arm</td>\n",
       "      <td>Data scientist</td>\n",
       "      <td>Matlab/Python/C++/numpy/Tensorflow/scikit-learn</td>\n",
       "      <td>Phd</td>\n",
       "      <td>2.0</td>\n",
       "      <td>Bordeaux</td>\n",
       "      <td>debutant</td>\n",
       "      <td>0</td>\n",
       "    </tr>\n",
       "  </tbody>\n",
       "</table>\n",
       "</div>"
      ],
      "text/plain": [
       "                                          Entreprise               Metier  \\\n",
       "0                                             Sanofi       Data scientist   \n",
       "1                Massachusetts General Hospital(MGH)      Data architecte   \n",
       "2                                              Delve  Lead data scientist   \n",
       "3  Ann & Robert H. Lurie Children’s Hospital of C...       Data scientist   \n",
       "4                                                Arm       Data scientist   \n",
       "\n",
       "                                        Technologies Diplome  Experience  \\\n",
       "0      Matlab/Python/Pyspark/Scikit-learn/Tensorflow  Master         1.0   \n",
       "1                          Python/Java/Scala/MongoDB  Master         3.0   \n",
       "2  SPSS/SQL/Teradata/R/Python/Tensorflow/scikit-l...  Master         3.0   \n",
       "3                                  C/C++/Java/Python  Master         1.5   \n",
       "4    Matlab/Python/C++/numpy/Tensorflow/scikit-learn     Phd         2.0   \n",
       "\n",
       "       Ville Exp_label  Exp_label_2  \n",
       "0      Paris  debutant            0  \n",
       "1  Marseille  debutant            0  \n",
       "2     Nantes  debutant            0  \n",
       "3  Marseille  debutant            0  \n",
       "4   Bordeaux  debutant            0  "
      ]
     },
     "execution_count": 39,
     "metadata": {},
     "output_type": "execute_result"
    }
   ],
   "source": [
    "df.head()"
   ]
  },
  {
   "cell_type": "markdown",
   "metadata": {},
   "source": [
    "Regardons si sur chaque ligne, chaque observation ne contient pas une technoogie en double ce qui peut fausser le calcul du decompte.\n",
    "<br> On se sert de set pour faire le compte des technoogies uniques et nous verifions si ce compte est egale à celle de la liste de depart si oui il n'ya pas de double sinon il y'en a"
   ]
  },
  {
   "cell_type": "code",
   "execution_count": 41,
   "metadata": {},
   "outputs": [],
   "source": [
    "#Regardons s'il n'ya pas de technologies repetitives sur chaque ligne\n",
    "test_ligne = list(map(lambda x:len(set(x.split('/')))==len(x.split('/')), df.Technologies))"
   ]
  },
  {
   "cell_type": "code",
   "execution_count": 43,
   "metadata": {},
   "outputs": [
    {
     "data": {
      "text/plain": [
       "True"
      ]
     },
     "execution_count": 43,
     "metadata": {},
     "output_type": "execute_result"
    }
   ],
   "source": [
    "all(test_ligne)"
   ]
  },
  {
   "cell_type": "code",
   "execution_count": 38,
   "metadata": {
    "collapsed": true
   },
   "outputs": [],
   "source": [
    "# Listons l'ensemble des technologies utilisees\n",
    "technologies_utilisees = list(map(lambda x:x.split('/'), df.Technologies))\n",
    "# Mettons à plat (nested) la liste de liste obtenu precedemment\n",
    "liste_des_logiciels_utilises = [val.lower() for sublist in technologies_utilisees\n",
    "                                for val in sublist if len(val)!=0]\n",
    "\n",
    "# Stockons la liste unique des logiciels utilises\n",
    "liste_unique_des_logiciels_utilises = list(set(liste_des_logiciels_utilises))"
   ]
  },
  {
   "cell_type": "code",
   "execution_count": 44,
   "metadata": {},
   "outputs": [
    {
     "data": {
      "text/plain": [
       "False"
      ]
     },
     "execution_count": 44,
     "metadata": {},
     "output_type": "execute_result"
    }
   ],
   "source": [
    "a = [True, False]\n",
    "all(a)"
   ]
  },
  {
   "cell_type": "code",
   "execution_count": 35,
   "metadata": {},
   "outputs": [
    {
     "data": {
      "text/plain": [
       "['java',\n",
       " 'hadoop(hdfs)',\n",
       " 'mongodb',\n",
       " 'postgresql',\n",
       " 'perl',\n",
       " 'nosql',\n",
       " 'pycharm',\n",
       " 'matplotlib',\n",
       " 'pyspark',\n",
       " 'r',\n",
       " 'spss',\n",
       " 'vba',\n",
       " 'elasticsearch',\n",
       " 'windows',\n",
       " 'deep learning',\n",
       " 'mysql',\n",
       " 'sql',\n",
       " 'scikit-learn',\n",
       " 'c++',\n",
       " 'scala',\n",
       " 'kibana',\n",
       " 'matlab',\n",
       " 'excel',\n",
       " 'oracle',\n",
       " 'tensorflow',\n",
       " 'microsoft azure',\n",
       " 'python',\n",
       " 'yarn',\n",
       " 'c',\n",
       " 'machine learning',\n",
       " 'hive',\n",
       " 'teradata',\n",
       " 'nosq',\n",
       " 'gnu',\n",
       " 'redshift',\n",
       " 'numpy',\n",
       " 'ruby',\n",
       " 'cassandra',\n",
       " 'anglais',\n",
       " 'ai',\n",
       " 'mariadb',\n",
       " 'docker',\n",
       " 'kafka',\n",
       " 'spark',\n",
       " 'hbase',\n",
       " 'aws',\n",
       " 'sas',\n",
       " 'map-reduce',\n",
       " 'linux',\n",
       " 'vertica',\n",
       " 'hadoop',\n",
       " 'hdfs',\n",
       " 'tableau',\n",
       " 'pig',\n",
       " 'big data',\n",
       " 'scoring']"
      ]
     },
     "execution_count": 35,
     "metadata": {},
     "output_type": "execute_result"
    }
   ],
   "source": [
    "liste_unique_des_logiciels_utilises"
   ]
  },
  {
   "cell_type": "markdown",
   "metadata": {},
   "source": [
    "La liste unique des logiciels nous montre des elements repetititifs ecrit sous differentes formes\n",
    "comme <b>hadoop(hdfs)</b> et <b>hadoop</b>.\n",
    "<br> La mise en minuscule des technologies utilises a permis d'eliminer les redondances lies a l'emploi de majuscule type <b> Machine learning </b> et <b> machine learning </b>. Il est aussi utile de noter que l'anglais n'est pas une technologie mais une langue, on peut donc la retirer de notre decompte.\n",
    "<br> numpy, matplotlib, tensorflow sont des librairies pythons mais des technologies à part entière. Que signifie alors donc maitriser python? cela englobe t'il le tout? ou cela signifie simplement maitriser les basiques mais comment faire de la data science avec python sans ces outils? \n",
    "python reste neanmoins une technologie que l'on conserveras.\n",
    "<br> Aussi machine learning, deep learning, big data, map-reduce et scoring ne semblent pas être des technologies mais des domaines ou des technologies sont employés."
   ]
  },
  {
   "cell_type": "code",
   "execution_count": 37,
   "metadata": {},
   "outputs": [
    {
     "data": {
      "image/png": "[encoded data removed]",
      "text/plain": [
       "<matplotlib.figure.Figure at 0x7f384d7c7a20>"
      ]
     },
     "metadata": {},
     "output_type": "display_data"
    },
    {
     "data": {
      "image/png": "[encoded data removed]",
      "text/plain": [
       "<matplotlib.figure.Figure at 0x7f384d77ccf8>"
      ]
     },
     "metadata": {},
     "output_type": "display_data"
    }
   ],
   "source": [
    "# Nombre des N technologies desirees\n",
    "liste_n_largest = 5\n",
    "# Stockons dans une liste le nombre\n",
    "sizes = [liste_des_logiciels_utilises.count(elt) for elt in liste_unique_des_logiciels_utilises]\n",
    "# Avoir les index des N technologies les plus utilisees\n",
    "index = np.argsort(sizes)[-liste_n_largest:]\n",
    "# Avoir les noms de ces technologies\n",
    "labels = np.asarray(liste_unique_des_logiciels_utilises, dtype=str)\n",
    "labels = list(labels[index])\n",
    "# Regrouper toutes les autres technologies dans une grosse categorie appelee Autres\n",
    "labels2 = labels\n",
    "labels.append ('Autres') #rajouter les autres qu'on a pas comptabiliser\n",
    "sizes2 =np.asarray(sizes)[index]\n",
    "sizes2 = list(sizes2)\n",
    "sizes2.append(len(liste_des_logiciels_utilises)-sum(sizes2)) \n",
    "\n",
    "fig1, ax1 = plt.subplots()\n",
    "ax1.pie(sizes2, labels=labels, autopct='%1.1f%%',\n",
    "        shadow=True, startangle=180)\n",
    "ax1.axis('equal')\n",
    "plt.plot('camembert des logiciels utilises')\n",
    "plt.show()\n",
    "\n",
    "##### je vois l'iddee\n",
    "liste_des_logiciels_utilises2 = np.asarray(liste_des_logiciels_utilises)  \n",
    "liste_des_logiciels_utilises2[~np.isin(liste_des_logiciels_utilises2, labels2)] = 'Autres'   \n",
    "data2 = pd.DataFrame(data=liste_des_logiciels_utilises2, columns=['logiciels'])\n",
    "ax = sb.countplot( y='logiciels', data= data2)"
   ]
  },
  {
   "cell_type": "markdown",
   "metadata": {},
   "source": [
    "Conclusion <br>Comme on peut le constater sur le camembert, <br> Python vient en première position des languages utilisés  par les personnes de la data avec un score de <b>15.3%</b>, suivi de près par le langage R, prisée des statisticiens <b>10.0%</b>, Ensuite viennent des outils de gestion, de gestion de la donnee comme SQL <b>5.9%</b>, Hadoop <b>3.6%</b>. <br> Java lui est moins utilisé comparé à Python et R, cela peut être lié au fait que les outils orientés Machine Learning sont plus rares ou moins vulgarisés (prisés)\n",
    "<br> On constate aussi que des mots comme Anglais sont presents dans les technologies et il existe plusieurs denominations du meme outil comme Spark (pyspark). Aussi, des technologies mentionnees matplotlib et scikit learn font partie de python qui lui meme est mentionne. Nous avons reglé le probleme de la denomination du meme logiciel <br>exemple:  Hadoop et hadoop </br> en mettant en miniscule le nom des technologies.\n",
    "<br> En conclusion, il y'a beaucoup de redondances d'informations. Afin d'effectuer une classification ou une possible regression, nous allons proceder a une reduction de la dimensionnalité du dataset"
   ]
  },
  {
   "cell_type": "code",
   "execution_count": null,
   "metadata": {
    "collapsed": true
   },
   "outputs": [],
   "source": []
  },
  {
   "cell_type": "code",
   "execution_count": null,
   "metadata": {
    "collapsed": true
   },
   "outputs": [],
   "source": [
    "liste_des_logiciels_utilises2"
   ]
  },
  {
   "cell_type": "markdown",
   "metadata": {},
   "source": [
    "### 8) Réaliser une méthode de clustering non supervisée de votre choix pour faire apparaître 2 clusters que vous jugerez pertinents. Donnez les caractéristiques de chacun des clusters.\n",
    "-  Justifier la performance de votre algorithme grace à une métrique.\n",
    "-  Interpréter votre resultat.  "
   ]
  },
  {
   "cell_type": "markdown",
   "metadata": {},
   "source": [
    "### Categoriser les technolgies via le one hot encodeur"
   ]
  },
  {
   "cell_type": "code",
   "execution_count": null,
   "metadata": {
    "collapsed": true
   },
   "outputs": [],
   "source": [
    "from sklearn.preprocessing import MultiLabelBinarizer\n",
    "\n",
    "mlb = MultiLabelBinarizer()\n",
    "software_maitrise = pd.DataFrame(mlb.fit_transform(df.Technologies.str.split('/')),columns=mlb.classes_, index=df.index)\n",
    "software_maitrise = software_maitrise.drop('',axis=1)#element non desire issu du split\n",
    "#software_maitrise = np.asarray(software_maitrise)"
   ]
  },
  {
   "cell_type": "code",
   "execution_count": null,
   "metadata": {
    "collapsed": true
   },
   "outputs": [],
   "source": [
    "software_maitrise.columns"
   ]
  },
  {
   "cell_type": "markdown",
   "metadata": {},
   "source": [
    "Il s'agira ici de remplacer toute les variables categorielles par des variables numeriques avec le one hot encoding. \n",
    "On peut supprimer la variable metier pour cette etude, par ce que le metier correspont approximativement a une certaine categorie de competences techniques plus ou moins defini, l'entreprise aussi ne semble pas être une variable pertinente, de meme que la ville ou l'emploi est effectué\n",
    "Le nombre d annee d experience peut definir un profil technique on va get dummies la variable cree"
   ]
  },
  {
   "cell_type": "code",
   "execution_count": null,
   "metadata": {
    "collapsed": true
   },
   "outputs": [],
   "source": [
    "software_maitrise"
   ]
  },
  {
   "cell_type": "code",
   "execution_count": null,
   "metadata": {
    "collapsed": true
   },
   "outputs": [],
   "source": [
    "job_experiences = np.asarray(pd.get_dummies(df.Exp_label))\n",
    "diplomes = np.asarray(pd.get_dummies(df.Diplome))\n",
    "metiers = np.asarray(pd.get)"
   ]
  },
  {
   "cell_type": "code",
   "execution_count": null,
   "metadata": {
    "collapsed": true
   },
   "outputs": [],
   "source": [
    "dataset_of_clustering = np.concatenate((software_maitrise, job_experiences, diplomes), axis=1)"
   ]
  },
  {
   "cell_type": "markdown",
   "metadata": {},
   "source": [
    "### Reduction de la dimensionnalite concernant les technologies"
   ]
  },
  {
   "cell_type": "code",
   "execution_count": null,
   "metadata": {
    "collapsed": true
   },
   "outputs": [],
   "source": [
    "from sklearn.decomposition import TruncatedSVD\n",
    "\n",
    "percentage_variance_explained = []\n",
    "for elt in range(1,dataset_of_clustering.shape[1]):\n",
    "    tsvd = TruncatedSVD(n_components=elt)\n",
    "    X =  tsvd.fit(dataset_of_clustering).transform(dataset_of_clustering)\n",
    "    percentage_variance_explained.append(tsvd.explained_variance_ratio_[0:elt].sum())\n",
    " \n",
    "plt.plot(list(range(1, dataset_of_clustering.shape[1])), percentage_variance_explained)"
   ]
  },
  {
   "cell_type": "code",
   "execution_count": null,
   "metadata": {
    "collapsed": true
   },
   "outputs": [],
   "source": [
    "from sklearn.decomposition import TruncatedSVD\n",
    "\n",
    "tsvd = TruncatedSVD(n_components=40)\n",
    "software_maitrise_to_take =  tsvd.fit(dataset_of_clustering).transform(dataset_of_clustering)\n",
    "print('pourcentage explique {} \\n'.format(tsvd.explained_variance_ratio_[0:40].sum()))\n",
    " "
   ]
  },
  {
   "cell_type": "code",
   "execution_count": null,
   "metadata": {
    "collapsed": true
   },
   "outputs": [],
   "source": [
    "from sklearn import metrics\n",
    "from sklearn.cluster import KMeans, AffinityPropagation, AgglomerativeClustering\n",
    "from sklearn.metrics import davies_bouldin_score \n",
    "from sklearn.decomposition import PCA\n",
    "from sklearn.preprocessing import scale"
   ]
  },
  {
   "cell_type": "code",
   "execution_count": null,
   "metadata": {
    "collapsed": true
   },
   "outputs": [],
   "source": [
    "dataset_of_clustering"
   ]
  },
  {
   "cell_type": "code",
   "execution_count": null,
   "metadata": {
    "collapsed": true
   },
   "outputs": [],
   "source": [
    "kmeans = KMeans(init='k-means++', n_clusters=2, n_init=100)\n",
    "kmeans.fit(dataset_of_clustering)\n",
    "preds = kmeans.fit_predict(dataset_of_clustering)"
   ]
  },
  {
   "cell_type": "code",
   "execution_count": null,
   "metadata": {
    "collapsed": true
   },
   "outputs": [],
   "source": [
    "clustering = AgglomerativeClustering()\n",
    "clustering.fit(dataset_of_clustering)"
   ]
  },
  {
   "cell_type": "code",
   "execution_count": null,
   "metadata": {
    "collapsed": true
   },
   "outputs": [],
   "source": [
    "clustering_validity = silhouette_score(dataset_of_clustering, preds)"
   ]
  },
  {
   "cell_type": "code",
   "execution_count": null,
   "metadata": {
    "collapsed": true
   },
   "outputs": [],
   "source": [
    "clustering_validity"
   ]
  },
  {
   "cell_type": "code",
   "execution_count": null,
   "metadata": {
    "collapsed": true
   },
   "outputs": [],
   "source": [
    "df['kmean_label'] = kmeans.labels_\n",
    "df['agglo_label'] = clustering.labels_"
   ]
  },
  {
   "cell_type": "code",
   "execution_count": null,
   "metadata": {
    "collapsed": true
   },
   "outputs": [],
   "source": [
    "df.head()"
   ]
  },
  {
   "cell_type": "code",
   "execution_count": null,
   "metadata": {
    "collapsed": true
   },
   "outputs": [],
   "source": []
  },
  {
   "cell_type": "markdown",
   "metadata": {},
   "source": [
    "### 9) Réaliser la prédiction des métiers manquants dans la base de données par l'algorithme de votre choix\n",
    "-  Justifier la performance de votre algorithme grace à une métrique.\n",
    "-  Interpréter votre resultat.  "
   ]
  },
  {
   "cell_type": "code",
   "execution_count": null,
   "metadata": {
    "collapsed": true
   },
   "outputs": [],
   "source": [
    "metiers_pas_renseigne = df[pd.isnull(df.Metier)].reset_index()\n"
   ]
  },
  {
   "cell_type": "code",
   "execution_count": null,
   "metadata": {
    "collapsed": true
   },
   "outputs": [],
   "source": [
    "dataset_base = df.dropna(subset=['Metier'], how='all')"
   ]
  },
  {
   "cell_type": "code",
   "execution_count": null,
   "metadata": {
    "collapsed": true
   },
   "outputs": [],
   "source": [
    "from sklearn.model_selection import train_test_split\n",
    "train_set, test_set = train_test_split(df, test_size=0.2, random_state=42)\n"
   ]
  },
  {
   "cell_type": "code",
   "execution_count": null,
   "metadata": {
    "collapsed": true
   },
   "outputs": [],
   "source": [
    "train_set"
   ]
  },
  {
   "cell_type": "markdown",
   "metadata": {},
   "source": [
    "### 10) Décrire de façon détaillée les différentes étapes pour mener à bien un projet data complexe.\n",
    "\n",
    "Dans le cadre d’une campagne de recrutement vous avez reçu un ensemble de cv qui ne sont pas à jour (le poste actuel n’est pas présent). Deux exemple de CV vous sont donnés en pièce jointe (il n'y a pas de mise en page type). Tous les CV sont au format PDF.\n",
    "\n",
    "On souhaite connaitre le poste actuel de chaque candidat.\n",
    "\n",
    "-  Quelles sont les différentes étapes nécessaires à la réalisation d'un tel projet?\n",
    "-  Pour chaque étape, détaillez les taches à accomplir, les méthodes à suivre, les pistes possibles, les points critiques.\n",
    "-  Justifiez consciencieusement vos choix\n"
   ]
  },
  {
   "cell_type": "code",
   "execution_count": null,
   "metadata": {
    "collapsed": true
   },
   "outputs": [],
   "source": []
  }
 ],
 "metadata": {
  "kernelspec": {
   "display_name": "Python 3",
   "language": "python",
   "name": "python3"
  },
  "language_info": {
   "codemirror_mode": {
    "name": "ipython",
    "version": 3
   },
   "file_extension": ".py",
   "mimetype": "text/x-python",
   "name": "python",
   "nbconvert_exporter": "python",
   "pygments_lexer": "ipython3",
   "version": "3.6.3"
  }
 },
 "nbformat": 4,
 "nbformat_minor": 2
}
